{
 "cells": [
  {
   "cell_type": "markdown",
   "metadata": {},
   "source": [
    "<a id='#start'></a>\n",
    "### Содержание\n",
    "\n",
    "<a href='#step1'>1. Подготовка данных</a>\n",
    "\n",
    "<a href='#step2'>2. Обучение моделей</a>\n",
    "\n",
    "<a href='#step3'>3. Анализ моделей</a>"
   ]
  },
  {
   "cell_type": "markdown",
   "metadata": {},
   "source": [
    "<a id='step1'></a>\n",
    "# 1. Подготовка данных"
   ]
  },
  {
   "cell_type": "code",
   "execution_count": 1,
   "metadata": {},
   "outputs": [],
   "source": [
    "import numpy as np\n",
    "import seaborn as sns\n",
    "import warnings\n",
    "import matplotlib as plt\n",
    "\n",
    "import pandas as pd\n",
    "from pandas.core.common import SettingWithCopyWarning\n",
    "\n",
    "from sklearn.linear_model import LinearRegression\n",
    "from sklearn.ensemble import RandomForestRegressor\n",
    "from sklearn.metrics import mean_squared_error\n",
    "from sklearn.metrics import make_scorer\n",
    "from sklearn.model_selection import cross_val_score\n",
    "from sklearn.model_selection import train_test_split\n",
    "from sklearn.model_selection import StratifiedKFold\n",
    "from sklearn.preprocessing import StandardScaler\n",
    "from sklearn.model_selection import GridSearchCV\n",
    "from sklearn.model_selection import RandomizedSearchCV\n",
    "\n",
    "\n",
    "from catboost import CatBoostRegressor\n",
    "import lightgbm as lgb"
   ]
  },
  {
   "cell_type": "code",
   "execution_count": 2,
   "metadata": {},
   "outputs": [],
   "source": [
    "try:\n",
    "    df = pd.read_csv('/datasets/autos.csv')\n",
    "except FileNotFoundError:\n",
    "    df = pd.read_csv('autos.csv')"
   ]
  },
  {
   "cell_type": "code",
   "execution_count": 3,
   "metadata": {},
   "outputs": [
    {
     "data": {
      "text/html": [
       "<div>\n",
       "<style scoped>\n",
       "    .dataframe tbody tr th:only-of-type {\n",
       "        vertical-align: middle;\n",
       "    }\n",
       "\n",
       "    .dataframe tbody tr th {\n",
       "        vertical-align: top;\n",
       "    }\n",
       "\n",
       "    .dataframe thead th {\n",
       "        text-align: right;\n",
       "    }\n",
       "</style>\n",
       "<table border=\"1\" class=\"dataframe\">\n",
       "  <thead>\n",
       "    <tr style=\"text-align: right;\">\n",
       "      <th></th>\n",
       "      <th>DateCrawled</th>\n",
       "      <th>Price</th>\n",
       "      <th>VehicleType</th>\n",
       "      <th>RegistrationYear</th>\n",
       "      <th>Gearbox</th>\n",
       "      <th>Power</th>\n",
       "      <th>Model</th>\n",
       "      <th>Kilometer</th>\n",
       "      <th>RegistrationMonth</th>\n",
       "      <th>FuelType</th>\n",
       "      <th>Brand</th>\n",
       "      <th>NotRepaired</th>\n",
       "      <th>DateCreated</th>\n",
       "      <th>NumberOfPictures</th>\n",
       "      <th>PostalCode</th>\n",
       "      <th>LastSeen</th>\n",
       "    </tr>\n",
       "  </thead>\n",
       "  <tbody>\n",
       "    <tr>\n",
       "      <td>0</td>\n",
       "      <td>2016-03-24 11:52:17</td>\n",
       "      <td>480</td>\n",
       "      <td>NaN</td>\n",
       "      <td>1993</td>\n",
       "      <td>manual</td>\n",
       "      <td>0</td>\n",
       "      <td>golf</td>\n",
       "      <td>150000</td>\n",
       "      <td>0</td>\n",
       "      <td>petrol</td>\n",
       "      <td>volkswagen</td>\n",
       "      <td>NaN</td>\n",
       "      <td>2016-03-24 00:00:00</td>\n",
       "      <td>0</td>\n",
       "      <td>70435</td>\n",
       "      <td>2016-04-07 03:16:57</td>\n",
       "    </tr>\n",
       "    <tr>\n",
       "      <td>1</td>\n",
       "      <td>2016-03-24 10:58:45</td>\n",
       "      <td>18300</td>\n",
       "      <td>coupe</td>\n",
       "      <td>2011</td>\n",
       "      <td>manual</td>\n",
       "      <td>190</td>\n",
       "      <td>NaN</td>\n",
       "      <td>125000</td>\n",
       "      <td>5</td>\n",
       "      <td>gasoline</td>\n",
       "      <td>audi</td>\n",
       "      <td>yes</td>\n",
       "      <td>2016-03-24 00:00:00</td>\n",
       "      <td>0</td>\n",
       "      <td>66954</td>\n",
       "      <td>2016-04-07 01:46:50</td>\n",
       "    </tr>\n",
       "    <tr>\n",
       "      <td>2</td>\n",
       "      <td>2016-03-14 12:52:21</td>\n",
       "      <td>9800</td>\n",
       "      <td>suv</td>\n",
       "      <td>2004</td>\n",
       "      <td>auto</td>\n",
       "      <td>163</td>\n",
       "      <td>grand</td>\n",
       "      <td>125000</td>\n",
       "      <td>8</td>\n",
       "      <td>gasoline</td>\n",
       "      <td>jeep</td>\n",
       "      <td>NaN</td>\n",
       "      <td>2016-03-14 00:00:00</td>\n",
       "      <td>0</td>\n",
       "      <td>90480</td>\n",
       "      <td>2016-04-05 12:47:46</td>\n",
       "    </tr>\n",
       "    <tr>\n",
       "      <td>3</td>\n",
       "      <td>2016-03-17 16:54:04</td>\n",
       "      <td>1500</td>\n",
       "      <td>small</td>\n",
       "      <td>2001</td>\n",
       "      <td>manual</td>\n",
       "      <td>75</td>\n",
       "      <td>golf</td>\n",
       "      <td>150000</td>\n",
       "      <td>6</td>\n",
       "      <td>petrol</td>\n",
       "      <td>volkswagen</td>\n",
       "      <td>no</td>\n",
       "      <td>2016-03-17 00:00:00</td>\n",
       "      <td>0</td>\n",
       "      <td>91074</td>\n",
       "      <td>2016-03-17 17:40:17</td>\n",
       "    </tr>\n",
       "    <tr>\n",
       "      <td>4</td>\n",
       "      <td>2016-03-31 17:25:20</td>\n",
       "      <td>3600</td>\n",
       "      <td>small</td>\n",
       "      <td>2008</td>\n",
       "      <td>manual</td>\n",
       "      <td>69</td>\n",
       "      <td>fabia</td>\n",
       "      <td>90000</td>\n",
       "      <td>7</td>\n",
       "      <td>gasoline</td>\n",
       "      <td>skoda</td>\n",
       "      <td>no</td>\n",
       "      <td>2016-03-31 00:00:00</td>\n",
       "      <td>0</td>\n",
       "      <td>60437</td>\n",
       "      <td>2016-04-06 10:17:21</td>\n",
       "    </tr>\n",
       "    <tr>\n",
       "      <td>5</td>\n",
       "      <td>2016-04-04 17:36:23</td>\n",
       "      <td>650</td>\n",
       "      <td>sedan</td>\n",
       "      <td>1995</td>\n",
       "      <td>manual</td>\n",
       "      <td>102</td>\n",
       "      <td>3er</td>\n",
       "      <td>150000</td>\n",
       "      <td>10</td>\n",
       "      <td>petrol</td>\n",
       "      <td>bmw</td>\n",
       "      <td>yes</td>\n",
       "      <td>2016-04-04 00:00:00</td>\n",
       "      <td>0</td>\n",
       "      <td>33775</td>\n",
       "      <td>2016-04-06 19:17:07</td>\n",
       "    </tr>\n",
       "    <tr>\n",
       "      <td>6</td>\n",
       "      <td>2016-04-01 20:48:51</td>\n",
       "      <td>2200</td>\n",
       "      <td>convertible</td>\n",
       "      <td>2004</td>\n",
       "      <td>manual</td>\n",
       "      <td>109</td>\n",
       "      <td>2_reihe</td>\n",
       "      <td>150000</td>\n",
       "      <td>8</td>\n",
       "      <td>petrol</td>\n",
       "      <td>peugeot</td>\n",
       "      <td>no</td>\n",
       "      <td>2016-04-01 00:00:00</td>\n",
       "      <td>0</td>\n",
       "      <td>67112</td>\n",
       "      <td>2016-04-05 18:18:39</td>\n",
       "    </tr>\n",
       "    <tr>\n",
       "      <td>7</td>\n",
       "      <td>2016-03-21 18:54:38</td>\n",
       "      <td>0</td>\n",
       "      <td>sedan</td>\n",
       "      <td>1980</td>\n",
       "      <td>manual</td>\n",
       "      <td>50</td>\n",
       "      <td>other</td>\n",
       "      <td>40000</td>\n",
       "      <td>7</td>\n",
       "      <td>petrol</td>\n",
       "      <td>volkswagen</td>\n",
       "      <td>no</td>\n",
       "      <td>2016-03-21 00:00:00</td>\n",
       "      <td>0</td>\n",
       "      <td>19348</td>\n",
       "      <td>2016-03-25 16:47:58</td>\n",
       "    </tr>\n",
       "    <tr>\n",
       "      <td>8</td>\n",
       "      <td>2016-04-04 23:42:13</td>\n",
       "      <td>14500</td>\n",
       "      <td>bus</td>\n",
       "      <td>2014</td>\n",
       "      <td>manual</td>\n",
       "      <td>125</td>\n",
       "      <td>c_max</td>\n",
       "      <td>30000</td>\n",
       "      <td>8</td>\n",
       "      <td>petrol</td>\n",
       "      <td>ford</td>\n",
       "      <td>NaN</td>\n",
       "      <td>2016-04-04 00:00:00</td>\n",
       "      <td>0</td>\n",
       "      <td>94505</td>\n",
       "      <td>2016-04-04 23:42:13</td>\n",
       "    </tr>\n",
       "    <tr>\n",
       "      <td>9</td>\n",
       "      <td>2016-03-17 10:53:50</td>\n",
       "      <td>999</td>\n",
       "      <td>small</td>\n",
       "      <td>1998</td>\n",
       "      <td>manual</td>\n",
       "      <td>101</td>\n",
       "      <td>golf</td>\n",
       "      <td>150000</td>\n",
       "      <td>0</td>\n",
       "      <td>NaN</td>\n",
       "      <td>volkswagen</td>\n",
       "      <td>NaN</td>\n",
       "      <td>2016-03-17 00:00:00</td>\n",
       "      <td>0</td>\n",
       "      <td>27472</td>\n",
       "      <td>2016-03-31 17:17:06</td>\n",
       "    </tr>\n",
       "  </tbody>\n",
       "</table>\n",
       "</div>"
      ],
      "text/plain": [
       "           DateCrawled  Price  VehicleType  RegistrationYear Gearbox  Power  \\\n",
       "0  2016-03-24 11:52:17    480          NaN              1993  manual      0   \n",
       "1  2016-03-24 10:58:45  18300        coupe              2011  manual    190   \n",
       "2  2016-03-14 12:52:21   9800          suv              2004    auto    163   \n",
       "3  2016-03-17 16:54:04   1500        small              2001  manual     75   \n",
       "4  2016-03-31 17:25:20   3600        small              2008  manual     69   \n",
       "5  2016-04-04 17:36:23    650        sedan              1995  manual    102   \n",
       "6  2016-04-01 20:48:51   2200  convertible              2004  manual    109   \n",
       "7  2016-03-21 18:54:38      0        sedan              1980  manual     50   \n",
       "8  2016-04-04 23:42:13  14500          bus              2014  manual    125   \n",
       "9  2016-03-17 10:53:50    999        small              1998  manual    101   \n",
       "\n",
       "     Model  Kilometer  RegistrationMonth  FuelType       Brand NotRepaired  \\\n",
       "0     golf     150000                  0    petrol  volkswagen         NaN   \n",
       "1      NaN     125000                  5  gasoline        audi         yes   \n",
       "2    grand     125000                  8  gasoline        jeep         NaN   \n",
       "3     golf     150000                  6    petrol  volkswagen          no   \n",
       "4    fabia      90000                  7  gasoline       skoda          no   \n",
       "5      3er     150000                 10    petrol         bmw         yes   \n",
       "6  2_reihe     150000                  8    petrol     peugeot          no   \n",
       "7    other      40000                  7    petrol  volkswagen          no   \n",
       "8    c_max      30000                  8    petrol        ford         NaN   \n",
       "9     golf     150000                  0       NaN  volkswagen         NaN   \n",
       "\n",
       "           DateCreated  NumberOfPictures  PostalCode             LastSeen  \n",
       "0  2016-03-24 00:00:00                 0       70435  2016-04-07 03:16:57  \n",
       "1  2016-03-24 00:00:00                 0       66954  2016-04-07 01:46:50  \n",
       "2  2016-03-14 00:00:00                 0       90480  2016-04-05 12:47:46  \n",
       "3  2016-03-17 00:00:00                 0       91074  2016-03-17 17:40:17  \n",
       "4  2016-03-31 00:00:00                 0       60437  2016-04-06 10:17:21  \n",
       "5  2016-04-04 00:00:00                 0       33775  2016-04-06 19:17:07  \n",
       "6  2016-04-01 00:00:00                 0       67112  2016-04-05 18:18:39  \n",
       "7  2016-03-21 00:00:00                 0       19348  2016-03-25 16:47:58  \n",
       "8  2016-04-04 00:00:00                 0       94505  2016-04-04 23:42:13  \n",
       "9  2016-03-17 00:00:00                 0       27472  2016-03-31 17:17:06  "
      ]
     },
     "execution_count": 3,
     "metadata": {},
     "output_type": "execute_result"
    }
   ],
   "source": [
    "df.head(10)"
   ]
  },
  {
   "cell_type": "code",
   "execution_count": 4,
   "metadata": {},
   "outputs": [
    {
     "name": "stdout",
     "output_type": "stream",
     "text": [
      "<class 'pandas.core.frame.DataFrame'>\n",
      "RangeIndex: 354369 entries, 0 to 354368\n",
      "Data columns (total 16 columns):\n",
      "DateCrawled          354369 non-null object\n",
      "Price                354369 non-null int64\n",
      "VehicleType          316879 non-null object\n",
      "RegistrationYear     354369 non-null int64\n",
      "Gearbox              334536 non-null object\n",
      "Power                354369 non-null int64\n",
      "Model                334664 non-null object\n",
      "Kilometer            354369 non-null int64\n",
      "RegistrationMonth    354369 non-null int64\n",
      "FuelType             321474 non-null object\n",
      "Brand                354369 non-null object\n",
      "NotRepaired          283215 non-null object\n",
      "DateCreated          354369 non-null object\n",
      "NumberOfPictures     354369 non-null int64\n",
      "PostalCode           354369 non-null int64\n",
      "LastSeen             354369 non-null object\n",
      "dtypes: int64(7), object(9)\n",
      "memory usage: 43.3+ MB\n"
     ]
    }
   ],
   "source": [
    "df.info()"
   ]
  },
  {
   "cell_type": "code",
   "execution_count": 5,
   "metadata": {},
   "outputs": [
    {
     "data": {
      "text/html": [
       "<div>\n",
       "<style scoped>\n",
       "    .dataframe tbody tr th:only-of-type {\n",
       "        vertical-align: middle;\n",
       "    }\n",
       "\n",
       "    .dataframe tbody tr th {\n",
       "        vertical-align: top;\n",
       "    }\n",
       "\n",
       "    .dataframe thead th {\n",
       "        text-align: right;\n",
       "    }\n",
       "</style>\n",
       "<table border=\"1\" class=\"dataframe\">\n",
       "  <thead>\n",
       "    <tr style=\"text-align: right;\">\n",
       "      <th></th>\n",
       "      <th>Price</th>\n",
       "      <th>RegistrationYear</th>\n",
       "      <th>Power</th>\n",
       "      <th>Kilometer</th>\n",
       "      <th>RegistrationMonth</th>\n",
       "      <th>NumberOfPictures</th>\n",
       "      <th>PostalCode</th>\n",
       "    </tr>\n",
       "  </thead>\n",
       "  <tbody>\n",
       "    <tr>\n",
       "      <td>count</td>\n",
       "      <td>354369.000000</td>\n",
       "      <td>354369.000000</td>\n",
       "      <td>354369.000000</td>\n",
       "      <td>354369.000000</td>\n",
       "      <td>354369.000000</td>\n",
       "      <td>354369.0</td>\n",
       "      <td>354369.000000</td>\n",
       "    </tr>\n",
       "    <tr>\n",
       "      <td>mean</td>\n",
       "      <td>4416.656776</td>\n",
       "      <td>2004.234448</td>\n",
       "      <td>110.094337</td>\n",
       "      <td>128211.172535</td>\n",
       "      <td>5.714645</td>\n",
       "      <td>0.0</td>\n",
       "      <td>50508.689087</td>\n",
       "    </tr>\n",
       "    <tr>\n",
       "      <td>std</td>\n",
       "      <td>4514.158514</td>\n",
       "      <td>90.227958</td>\n",
       "      <td>189.850405</td>\n",
       "      <td>37905.341530</td>\n",
       "      <td>3.726421</td>\n",
       "      <td>0.0</td>\n",
       "      <td>25783.096248</td>\n",
       "    </tr>\n",
       "    <tr>\n",
       "      <td>min</td>\n",
       "      <td>0.000000</td>\n",
       "      <td>1000.000000</td>\n",
       "      <td>0.000000</td>\n",
       "      <td>5000.000000</td>\n",
       "      <td>0.000000</td>\n",
       "      <td>0.0</td>\n",
       "      <td>1067.000000</td>\n",
       "    </tr>\n",
       "    <tr>\n",
       "      <td>25%</td>\n",
       "      <td>1050.000000</td>\n",
       "      <td>1999.000000</td>\n",
       "      <td>69.000000</td>\n",
       "      <td>125000.000000</td>\n",
       "      <td>3.000000</td>\n",
       "      <td>0.0</td>\n",
       "      <td>30165.000000</td>\n",
       "    </tr>\n",
       "    <tr>\n",
       "      <td>50%</td>\n",
       "      <td>2700.000000</td>\n",
       "      <td>2003.000000</td>\n",
       "      <td>105.000000</td>\n",
       "      <td>150000.000000</td>\n",
       "      <td>6.000000</td>\n",
       "      <td>0.0</td>\n",
       "      <td>49413.000000</td>\n",
       "    </tr>\n",
       "    <tr>\n",
       "      <td>75%</td>\n",
       "      <td>6400.000000</td>\n",
       "      <td>2008.000000</td>\n",
       "      <td>143.000000</td>\n",
       "      <td>150000.000000</td>\n",
       "      <td>9.000000</td>\n",
       "      <td>0.0</td>\n",
       "      <td>71083.000000</td>\n",
       "    </tr>\n",
       "    <tr>\n",
       "      <td>max</td>\n",
       "      <td>20000.000000</td>\n",
       "      <td>9999.000000</td>\n",
       "      <td>20000.000000</td>\n",
       "      <td>150000.000000</td>\n",
       "      <td>12.000000</td>\n",
       "      <td>0.0</td>\n",
       "      <td>99998.000000</td>\n",
       "    </tr>\n",
       "  </tbody>\n",
       "</table>\n",
       "</div>"
      ],
      "text/plain": [
       "               Price  RegistrationYear          Power      Kilometer  \\\n",
       "count  354369.000000     354369.000000  354369.000000  354369.000000   \n",
       "mean     4416.656776       2004.234448     110.094337  128211.172535   \n",
       "std      4514.158514         90.227958     189.850405   37905.341530   \n",
       "min         0.000000       1000.000000       0.000000    5000.000000   \n",
       "25%      1050.000000       1999.000000      69.000000  125000.000000   \n",
       "50%      2700.000000       2003.000000     105.000000  150000.000000   \n",
       "75%      6400.000000       2008.000000     143.000000  150000.000000   \n",
       "max     20000.000000       9999.000000   20000.000000  150000.000000   \n",
       "\n",
       "       RegistrationMonth  NumberOfPictures     PostalCode  \n",
       "count      354369.000000          354369.0  354369.000000  \n",
       "mean            5.714645               0.0   50508.689087  \n",
       "std             3.726421               0.0   25783.096248  \n",
       "min             0.000000               0.0    1067.000000  \n",
       "25%             3.000000               0.0   30165.000000  \n",
       "50%             6.000000               0.0   49413.000000  \n",
       "75%             9.000000               0.0   71083.000000  \n",
       "max            12.000000               0.0   99998.000000  "
      ]
     },
     "execution_count": 5,
     "metadata": {},
     "output_type": "execute_result"
    }
   ],
   "source": [
    "df.describe()"
   ]
  },
  {
   "cell_type": "code",
   "execution_count": 6,
   "metadata": {
    "scrolled": false
   },
   "outputs": [
    {
     "name": "stdout",
     "output_type": "stream",
     "text": [
      "Доля пропусков в столбце DateCrawled: 0.00%\n",
      "Доля пропусков в столбце Price: 0.00%\n",
      "Доля пропусков в столбце VehicleType: 11.83%\n",
      "Доля пропусков в столбце RegistrationYear: 0.00%\n",
      "Доля пропусков в столбце Gearbox: 5.93%\n",
      "Доля пропусков в столбце Power: 0.00%\n",
      "Доля пропусков в столбце Model: 5.89%\n",
      "Доля пропусков в столбце Kilometer: 0.00%\n",
      "Доля пропусков в столбце RegistrationMonth: 0.00%\n",
      "Доля пропусков в столбце FuelType: 10.23%\n",
      "Доля пропусков в столбце Brand: 0.00%\n",
      "Доля пропусков в столбце NotRepaired: 25.12%\n",
      "Доля пропусков в столбце DateCreated: 0.00%\n",
      "Доля пропусков в столбце NumberOfPictures: 0.00%\n",
      "Доля пропусков в столбце PostalCode: 0.00%\n",
      "Доля пропусков в столбце LastSeen: 0.00%\n"
     ]
    }
   ],
   "source": [
    "for col in df.columns:\n",
    "    print('Доля пропусков в столбце {}: {:.2%}'.format(col, df[col].isna().sum()/df[col].count()))"
   ]
  },
  {
   "cell_type": "code",
   "execution_count": 7,
   "metadata": {},
   "outputs": [
    {
     "data": {
      "text/html": [
       "<style  type=\"text/css\" >\n",
       "    #T_2ba94b0a_2b22_11eb_a881_02420a39170drow0_col0 {\n",
       "            background-color:  #f0f921;\n",
       "            color:  #000000;\n",
       "        }    #T_2ba94b0a_2b22_11eb_a881_02420a39170drow0_col1 {\n",
       "            background-color:  #1d068e;\n",
       "            color:  #f1f1f1;\n",
       "        }    #T_2ba94b0a_2b22_11eb_a881_02420a39170drow0_col2 {\n",
       "            background-color:  #5901a5;\n",
       "            color:  #f1f1f1;\n",
       "        }    #T_2ba94b0a_2b22_11eb_a881_02420a39170drow0_col3 {\n",
       "            background-color:  #9c179e;\n",
       "            color:  #f1f1f1;\n",
       "        }    #T_2ba94b0a_2b22_11eb_a881_02420a39170drow1_col0 {\n",
       "            background-color:  #1d068e;\n",
       "            color:  #f1f1f1;\n",
       "        }    #T_2ba94b0a_2b22_11eb_a881_02420a39170drow1_col1 {\n",
       "            background-color:  #f0f921;\n",
       "            color:  #000000;\n",
       "        }    #T_2ba94b0a_2b22_11eb_a881_02420a39170drow1_col2 {\n",
       "            background-color:  #0d0887;\n",
       "            color:  #f1f1f1;\n",
       "        }    #T_2ba94b0a_2b22_11eb_a881_02420a39170drow1_col3 {\n",
       "            background-color:  #2c0594;\n",
       "            color:  #f1f1f1;\n",
       "        }    #T_2ba94b0a_2b22_11eb_a881_02420a39170drow2_col0 {\n",
       "            background-color:  #5901a5;\n",
       "            color:  #f1f1f1;\n",
       "        }    #T_2ba94b0a_2b22_11eb_a881_02420a39170drow2_col1 {\n",
       "            background-color:  #0d0887;\n",
       "            color:  #f1f1f1;\n",
       "        }    #T_2ba94b0a_2b22_11eb_a881_02420a39170drow2_col2 {\n",
       "            background-color:  #f0f921;\n",
       "            color:  #000000;\n",
       "        }    #T_2ba94b0a_2b22_11eb_a881_02420a39170drow2_col3 {\n",
       "            background-color:  #1b068d;\n",
       "            color:  #f1f1f1;\n",
       "        }    #T_2ba94b0a_2b22_11eb_a881_02420a39170drow3_col0 {\n",
       "            background-color:  #9c179e;\n",
       "            color:  #f1f1f1;\n",
       "        }    #T_2ba94b0a_2b22_11eb_a881_02420a39170drow3_col1 {\n",
       "            background-color:  #2c0594;\n",
       "            color:  #f1f1f1;\n",
       "        }    #T_2ba94b0a_2b22_11eb_a881_02420a39170drow3_col2 {\n",
       "            background-color:  #1b068d;\n",
       "            color:  #f1f1f1;\n",
       "        }    #T_2ba94b0a_2b22_11eb_a881_02420a39170drow3_col3 {\n",
       "            background-color:  #f0f921;\n",
       "            color:  #000000;\n",
       "        }</style><table id=\"T_2ba94b0a_2b22_11eb_a881_02420a39170d\" ><thead>    <tr>        <th class=\"blank level0\" ></th>        <th class=\"col_heading level0 col0\" >Price</th>        <th class=\"col_heading level0 col1\" >RegistrationYear</th>        <th class=\"col_heading level0 col2\" >Power</th>        <th class=\"col_heading level0 col3\" >Kilometer</th>    </tr></thead><tbody>\n",
       "                <tr>\n",
       "                        <th id=\"T_2ba94b0a_2b22_11eb_a881_02420a39170dlevel0_row0\" class=\"row_heading level0 row0\" >Price</th>\n",
       "                        <td id=\"T_2ba94b0a_2b22_11eb_a881_02420a39170drow0_col0\" class=\"data row0 col0\" >1</td>\n",
       "                        <td id=\"T_2ba94b0a_2b22_11eb_a881_02420a39170drow0_col1\" class=\"data row0 col1\" >0.026916</td>\n",
       "                        <td id=\"T_2ba94b0a_2b22_11eb_a881_02420a39170drow0_col2\" class=\"data row0 col2\" >0.158872</td>\n",
       "                        <td id=\"T_2ba94b0a_2b22_11eb_a881_02420a39170drow0_col3\" class=\"data row0 col3\" >0.333199</td>\n",
       "            </tr>\n",
       "            <tr>\n",
       "                        <th id=\"T_2ba94b0a_2b22_11eb_a881_02420a39170dlevel0_row1\" class=\"row_heading level0 row1\" >RegistrationYear</th>\n",
       "                        <td id=\"T_2ba94b0a_2b22_11eb_a881_02420a39170drow1_col0\" class=\"data row1 col0\" >0.026916</td>\n",
       "                        <td id=\"T_2ba94b0a_2b22_11eb_a881_02420a39170drow1_col1\" class=\"data row1 col1\" >1</td>\n",
       "                        <td id=\"T_2ba94b0a_2b22_11eb_a881_02420a39170drow1_col2\" class=\"data row1 col2\" >0.000828471</td>\n",
       "                        <td id=\"T_2ba94b0a_2b22_11eb_a881_02420a39170drow1_col3\" class=\"data row1 col3\" >0.053447</td>\n",
       "            </tr>\n",
       "            <tr>\n",
       "                        <th id=\"T_2ba94b0a_2b22_11eb_a881_02420a39170dlevel0_row2\" class=\"row_heading level0 row2\" >Power</th>\n",
       "                        <td id=\"T_2ba94b0a_2b22_11eb_a881_02420a39170drow2_col0\" class=\"data row2 col0\" >0.158872</td>\n",
       "                        <td id=\"T_2ba94b0a_2b22_11eb_a881_02420a39170drow2_col1\" class=\"data row2 col1\" >0.000828471</td>\n",
       "                        <td id=\"T_2ba94b0a_2b22_11eb_a881_02420a39170drow2_col2\" class=\"data row2 col2\" >1</td>\n",
       "                        <td id=\"T_2ba94b0a_2b22_11eb_a881_02420a39170drow2_col3\" class=\"data row2 col3\" >0.0240019</td>\n",
       "            </tr>\n",
       "            <tr>\n",
       "                        <th id=\"T_2ba94b0a_2b22_11eb_a881_02420a39170dlevel0_row3\" class=\"row_heading level0 row3\" >Kilometer</th>\n",
       "                        <td id=\"T_2ba94b0a_2b22_11eb_a881_02420a39170drow3_col0\" class=\"data row3 col0\" >0.333199</td>\n",
       "                        <td id=\"T_2ba94b0a_2b22_11eb_a881_02420a39170drow3_col1\" class=\"data row3 col1\" >0.053447</td>\n",
       "                        <td id=\"T_2ba94b0a_2b22_11eb_a881_02420a39170drow3_col2\" class=\"data row3 col2\" >0.0240019</td>\n",
       "                        <td id=\"T_2ba94b0a_2b22_11eb_a881_02420a39170drow3_col3\" class=\"data row3 col3\" >1</td>\n",
       "            </tr>\n",
       "    </tbody></table>"
      ],
      "text/plain": [
       "<pandas.io.formats.style.Styler at 0x7f6677595450>"
      ]
     },
     "execution_count": 7,
     "metadata": {},
     "output_type": "execute_result"
    }
   ],
   "source": [
    "corr_matrix = df[['Price','RegistrationYear','Power','Kilometer']].corr().abs()\n",
    "corr_matrix.style.background_gradient(cmap='plasma', axis=None)"
   ]
  },
  {
   "cell_type": "markdown",
   "metadata": {},
   "source": [
    "Последовательно рассмотрим признаки."
   ]
  },
  {
   "cell_type": "markdown",
   "metadata": {},
   "source": [
    "### Изучение и предобработка"
   ]
  },
  {
   "cell_type": "markdown",
   "metadata": {},
   "source": [
    "Удалим из датафрейма признаки, соответствующие датам создания и скачивания анкеты, дате последней активности пользователя и столбец *PostalCode*.\n",
    "\n",
    "Удалим столбец *NumbetOfPictures*, поскольку он не несет полезной информации (все значения в нем - 0).\n",
    "\n",
    "Основываясь на житейском опыте, удалим столбец *RegistrationMonth*, оставив при этом *RegistrationYear*. Зачастую на стоимость автомобиля влияет его возраст, но за редким ислючением кто-то обращает внимание на возраст автомобиля вплоть до месяца."
   ]
  },
  {
   "cell_type": "code",
   "execution_count": 8,
   "metadata": {},
   "outputs": [],
   "source": [
    "df = df.drop(['DateCrawled','RegistrationMonth','DateCreated','NumberOfPictures','PostalCode','LastSeen'], axis=1)"
   ]
  },
  {
   "cell_type": "code",
   "execution_count": 9,
   "metadata": {},
   "outputs": [
    {
     "data": {
      "text/plain": [
       "Text(0.5, 1.0, 'Распределение признака Kilometer')"
      ]
     },
     "execution_count": 9,
     "metadata": {},
     "output_type": "execute_result"
    },
    {
     "data": {
      "image/png": "[encoded data removed]",
      "text/plain": [
       "<Figure size 432x288 with 1 Axes>"
      ]
     },
     "metadata": {
      "needs_background": "light"
     },
     "output_type": "display_data"
    }
   ],
   "source": [
    "pl = df['Kilometer'].plot(kind='hist', grid=True)\n",
    "pl.set_xlabel('Пробег, км')\n",
    "pl.set_ylabel('Частота')\n",
    "pl.set_title('Распределение признака Kilometer')"
   ]
  },
  {
   "cell_type": "markdown",
   "metadata": {},
   "source": [
    "На гистограмме признака *Kilometer* каких-то особенностей не наблюдаем."
   ]
  },
  {
   "cell_type": "code",
   "execution_count": 10,
   "metadata": {},
   "outputs": [
    {
     "data": {
      "text/plain": [
       "array(['volkswagen', 'audi', 'jeep', 'skoda', 'bmw', 'peugeot', 'ford',\n",
       "       'mazda', 'nissan', 'renault', 'mercedes_benz', 'opel', 'seat',\n",
       "       'citroen', 'honda', 'fiat', 'mini', 'smart', 'hyundai',\n",
       "       'sonstige_autos', 'alfa_romeo', 'subaru', 'volvo', 'mitsubishi',\n",
       "       'kia', 'suzuki', 'lancia', 'toyota', 'chevrolet', 'dacia',\n",
       "       'daihatsu', 'trabant', 'saab', 'chrysler', 'jaguar', 'daewoo',\n",
       "       'porsche', 'rover', 'land_rover', 'lada'], dtype=object)"
      ]
     },
     "execution_count": 10,
     "metadata": {},
     "output_type": "execute_result"
    }
   ],
   "source": [
    "df['Brand'].unique()"
   ]
  },
  {
   "cell_type": "code",
   "execution_count": 11,
   "metadata": {
    "scrolled": true
   },
   "outputs": [
    {
     "data": {
      "text/plain": [
       "array(['golf', nan, 'grand', 'fabia', '3er', '2_reihe', 'other', 'c_max',\n",
       "       '3_reihe', 'passat', 'navara', 'ka', 'polo', 'twingo', 'a_klasse',\n",
       "       'scirocco', '5er', 'meriva', 'arosa', 'c4', 'civic', 'transporter',\n",
       "       'punto', 'e_klasse', 'clio', 'kadett', 'kangoo', 'corsa', 'one',\n",
       "       'fortwo', '1er', 'b_klasse', 'signum', 'astra', 'a8', 'jetta',\n",
       "       'fiesta', 'c_klasse', 'micra', 'vito', 'sprinter', '156', 'escort',\n",
       "       'forester', 'xc_reihe', 'scenic', 'a4', 'a1', 'insignia', 'combo',\n",
       "       'focus', 'tt', 'a6', 'jazz', 'omega', 'slk', '7er', '80', '147',\n",
       "       '100', 'z_reihe', 'sportage', 'sorento', 'v40', 'ibiza', 'mustang',\n",
       "       'eos', 'touran', 'getz', 'a3', 'almera', 'megane', 'lupo', 'r19',\n",
       "       'zafira', 'caddy', 'mondeo', 'cordoba', 'colt', 'impreza',\n",
       "       'vectra', 'berlingo', 'tiguan', 'i_reihe', 'espace', 'sharan',\n",
       "       '6_reihe', 'panda', 'up', 'seicento', 'ceed', '5_reihe', 'yeti',\n",
       "       'octavia', 'mii', 'rx_reihe', '6er', 'modus', 'fox', 'matiz',\n",
       "       'beetle', 'c1', 'rio', 'touareg', 'logan', 'spider', 'cuore',\n",
       "       's_max', 'a2', 'galaxy', 'c3', 'viano', 's_klasse', '1_reihe',\n",
       "       'avensis', 'roomster', 'sl', 'kaefer', 'santa', 'cooper', 'leon',\n",
       "       '4_reihe', 'a5', '500', 'laguna', 'ptcruiser', 'clk', 'primera',\n",
       "       'x_reihe', 'exeo', '159', 'transit', 'juke', 'qashqai', 'carisma',\n",
       "       'accord', 'corolla', 'lanos', 'phaeton', 'verso', 'swift', 'rav',\n",
       "       'picanto', 'boxster', 'kalos', 'superb', 'stilo', 'alhambra',\n",
       "       'mx_reihe', 'roadster', 'ypsilon', 'cayenne', 'galant', 'justy',\n",
       "       '90', 'sirion', 'crossfire', 'agila', 'duster', 'cr_reihe', 'v50',\n",
       "       'c_reihe', 'v_klasse', 'm_klasse', 'yaris', 'c5', 'aygo', 'cc',\n",
       "       'carnival', 'fusion', '911', 'bora', 'forfour', 'm_reihe', 'cl',\n",
       "       'tigra', '300c', 'spark', 'v70', 'kuga', 'x_type', 'ducato',\n",
       "       's_type', 'x_trail', 'toledo', 'altea', 'voyager', 'calibra',\n",
       "       'bravo', 'antara', 'tucson', 'citigo', 'jimny', 'wrangler',\n",
       "       'lybra', 'q7', 'lancer', 'captiva', 'c2', 'discovery',\n",
       "       'freelander', 'sandero', 'note', '900', 'cherokee', 'clubman',\n",
       "       'samara', 'defender', '601', 'cx_reihe', 'legacy', 'pajero',\n",
       "       'auris', 'niva', 's60', 'nubira', 'vivaro', 'g_klasse', 'lodgy',\n",
       "       '850', 'range_rover', 'q3', 'serie_2', 'glk', 'charade', 'croma',\n",
       "       'outlander', 'doblo', 'musa', 'move', '9000', 'v60', '145', 'aveo',\n",
       "       '200', 'b_max', 'range_rover_sport', 'terios', 'rangerover', 'q5',\n",
       "       'range_rover_evoque', 'materia', 'delta', 'gl', 'kalina', 'amarok',\n",
       "       'elefantino', 'i3', 'kappa', 'serie_3', 'serie_1'], dtype=object)"
      ]
     },
     "execution_count": 11,
     "metadata": {},
     "output_type": "execute_result"
    }
   ],
   "source": [
    "df['Model'].unique()"
   ]
  },
  {
   "cell_type": "markdown",
   "metadata": {},
   "source": [
    "Столбцы *Model* и *Brand* имеют значительное количество уникальных значений, при этом они являются категориальными. Решение об их методе кодирования примем на следующем шаге."
   ]
  },
  {
   "cell_type": "code",
   "execution_count": 12,
   "metadata": {
    "scrolled": true
   },
   "outputs": [
    {
     "data": {
      "text/plain": [
       "array([nan, 'coupe', 'suv', 'small', 'sedan', 'convertible', 'bus',\n",
       "       'wagon', 'other'], dtype=object)"
      ]
     },
     "execution_count": 12,
     "metadata": {},
     "output_type": "execute_result"
    }
   ],
   "source": [
    "df['VehicleType'].unique()"
   ]
  },
  {
   "cell_type": "code",
   "execution_count": 13,
   "metadata": {},
   "outputs": [
    {
     "data": {
      "text/plain": [
       "array(['petrol', 'gasoline', nan, 'lpg', 'other', 'hybrid', 'cng',\n",
       "       'electric'], dtype=object)"
      ]
     },
     "execution_count": 13,
     "metadata": {},
     "output_type": "execute_result"
    }
   ],
   "source": [
    "df['FuelType'].unique()"
   ]
  },
  {
   "cell_type": "code",
   "execution_count": 14,
   "metadata": {},
   "outputs": [
    {
     "data": {
      "text/plain": [
       "array(['manual', 'auto', nan], dtype=object)"
      ]
     },
     "execution_count": 14,
     "metadata": {},
     "output_type": "execute_result"
    }
   ],
   "source": [
    "df['Gearbox'].unique()"
   ]
  },
  {
   "cell_type": "code",
   "execution_count": 15,
   "metadata": {},
   "outputs": [
    {
     "data": {
      "text/plain": [
       "array([nan, 'yes', 'no'], dtype=object)"
      ]
     },
     "execution_count": 15,
     "metadata": {},
     "output_type": "execute_result"
    }
   ],
   "source": [
    "df['NotRepaired'].unique()"
   ]
  },
  {
   "cell_type": "markdown",
   "metadata": {},
   "source": [
    "В столбцах *Kilometer*, *VehicleType*, *FuelType* заменим пропуски на значение **other**, которое позволит не терять данные из-за удаления, и которое уже присутствует в признаках.\n",
    "\n",
    "В столбцах *Gearbox* и *NotRepaired* заменим пропуски на **uknown**."
   ]
  },
  {
   "cell_type": "code",
   "execution_count": 16,
   "metadata": {},
   "outputs": [],
   "source": [
    "df['Model'] = df['Model'].fillna('other')\n",
    "df['VehicleType'] = df['VehicleType'].fillna('other')\n",
    "df['FuelType'] = df['FuelType'].fillna('other')\n",
    "\n",
    "df['NotRepaired'] = df['NotRepaired'].fillna('unknown')\n",
    "df['Gearbox'] = df['Gearbox'].fillna('unknown')"
   ]
  },
  {
   "cell_type": "markdown",
   "metadata": {},
   "source": [
    "Рассмотрим столбцы *RegistrationYear*, *Power* и *Price*:"
   ]
  },
  {
   "cell_type": "code",
   "execution_count": 17,
   "metadata": {},
   "outputs": [],
   "source": [
    "def print_hist(df, params):\n",
    "    plot = df[params[0]].plot(kind=\"hist\", bins=params[1], range=(params[2][0],params[2][1]), grid=True,figsize=(8,6))\n",
    "    plot.set_xlabel(params[3])\n",
    "    plot.set_ylabel(params[4])\n",
    "    plt.title(params[5])"
   ]
  },
  {
   "cell_type": "code",
   "execution_count": 18,
   "metadata": {},
   "outputs": [
    {
     "data": {
      "text/plain": [
       "Text(0.5, 1.0, 'Распределение признака RegistrationYear')"
      ]
     },
     "execution_count": 18,
     "metadata": {},
     "output_type": "execute_result"
    },
    {
     "data": {
      "image/png": "[encoded data removed]",
      "text/plain": [
       "<Figure size 576x432 with 1 Axes>"
      ]
     },
     "metadata": {
      "needs_background": "light"
     },
     "output_type": "display_data"
    }
   ],
   "source": [
    "pl = df['RegistrationYear'].plot(kind='box', grid=True, figsize=(8,6))\n",
    "pl.set_xlabel('')\n",
    "pl.set_ylabel('Год регистрации')\n",
    "pl.set_title('Распределение признака RegistrationYear')"
   ]
  },
  {
   "cell_type": "code",
   "execution_count": 19,
   "metadata": {
    "scrolled": true
   },
   "outputs": [
    {
     "data": {
      "text/plain": [
       "Text(0.5, 1.0, 'Распределение признака RegistrationYear')"
      ]
     },
     "execution_count": 19,
     "metadata": {},
     "output_type": "execute_result"
    },
    {
     "data": {
      "image/png": "[encoded data removed]",
      "text/plain": [
       "<Figure size 432x288 with 1 Axes>"
      ]
     },
     "metadata": {
      "needs_background": "light"
     },
     "output_type": "display_data"
    }
   ],
   "source": [
    "pl = df['RegistrationYear'].plot(kind='hist', bins=100, grid=True, figsize=(6,4))\n",
    "pl.set_xlabel('Год регистрации')\n",
    "pl.set_ylabel('Частота')\n",
    "pl.set_title('Распределение признака RegistrationYear')"
   ]
  },
  {
   "cell_type": "markdown",
   "metadata": {},
   "source": [
    "На распределении *RegistrationYear* наблюдается наличие аномальных годов выпуска из будущего. Оценим количество значений, которые сможем безболезненно отсечь и построим новое распределение с учетом введенных ограничений."
   ]
  },
  {
   "cell_type": "code",
   "execution_count": 20,
   "metadata": {},
   "outputs": [
    {
     "data": {
      "text/plain": [
       "105"
      ]
     },
     "execution_count": 20,
     "metadata": {},
     "output_type": "execute_result"
    }
   ],
   "source": [
    "df[(df['RegistrationYear']>2019)]['RegistrationYear'].count()"
   ]
  },
  {
   "cell_type": "code",
   "execution_count": 21,
   "metadata": {},
   "outputs": [
    {
     "data": {
      "text/plain": [
       "246"
      ]
     },
     "execution_count": 21,
     "metadata": {},
     "output_type": "execute_result"
    }
   ],
   "source": [
    "df[(df['RegistrationYear']<1950)]['RegistrationYear'].count()"
   ]
  },
  {
   "cell_type": "code",
   "execution_count": 22,
   "metadata": {},
   "outputs": [
    {
     "data": {
      "text/plain": [
       "Text(0.5, 1.0, 'Распределение признака RegistrationYear')"
      ]
     },
     "execution_count": 22,
     "metadata": {},
     "output_type": "execute_result"
    },
    {
     "data": {
      "image/png": "[encoded data removed]",
      "text/plain": [
       "<Figure size 576x432 with 1 Axes>"
      ]
     },
     "metadata": {
      "needs_background": "light"
     },
     "output_type": "display_data"
    }
   ],
   "source": [
    "pl = df[(df['RegistrationYear']<=2019) & (df['RegistrationYear']>1950)]['RegistrationYear'].plot(kind='hist', bins=65,grid=True,\n",
    "                                                                                                 figsize=(8,6))\n",
    "pl.set_xlabel('Год регистрации')\n",
    "pl.set_ylabel('Частота')\n",
    "pl.set_title('Распределение признака RegistrationYear')"
   ]
  },
  {
   "cell_type": "code",
   "execution_count": 23,
   "metadata": {},
   "outputs": [
    {
     "data": {
      "text/plain": [
       "Text(0.5, 1.0, 'Распределение признака Price')"
      ]
     },
     "execution_count": 23,
     "metadata": {},
     "output_type": "execute_result"
    },
    {
     "data": {
      "image/png": "[encoded data removed]",
      "text/plain": [
       "<Figure size 576x432 with 1 Axes>"
      ]
     },
     "metadata": {
      "needs_background": "light"
     },
     "output_type": "display_data"
    }
   ],
   "source": [
    "pl = df['Price'].plot(kind='hist',bins=100,figsize=(8,6), grid=True)\n",
    "pl.set_xlabel('Стоимость, тыс.')\n",
    "pl.set_ylabel('Частота')\n",
    "pl.set_title('Распределение признака Price')"
   ]
  },
  {
   "cell_type": "code",
   "execution_count": 24,
   "metadata": {},
   "outputs": [
    {
     "data": {
      "text/plain": [
       "0        10772\n",
       "500       5670\n",
       "1500      5394\n",
       "1000      4649\n",
       "1200      4594\n",
       "         ...  \n",
       "13440        1\n",
       "1414         1\n",
       "8069         1\n",
       "10370        1\n",
       "384          1\n",
       "Name: Price, Length: 3731, dtype: int64"
      ]
     },
     "execution_count": 24,
     "metadata": {},
     "output_type": "execute_result"
    }
   ],
   "source": [
    "df['Price'].value_counts()"
   ]
  },
  {
   "cell_type": "markdown",
   "metadata": {},
   "source": [
    "Удалим из выборки строки со значением целевого признака *Price*, равным нулю, таких значений всего 3% и они бесполезны для обучения."
   ]
  },
  {
   "cell_type": "code",
   "execution_count": 25,
   "metadata": {},
   "outputs": [
    {
     "data": {
      "text/plain": [
       "Text(0.5, 1.0, 'Распределение признака Power')"
      ]
     },
     "execution_count": 25,
     "metadata": {},
     "output_type": "execute_result"
    },
    {
     "data": {
      "image/png": "[encoded data removed]",
      "text/plain": [
       "<Figure size 576x432 with 1 Axes>"
      ]
     },
     "metadata": {
      "needs_background": "light"
     },
     "output_type": "display_data"
    }
   ],
   "source": [
    "pl = df['Power'].plot(kind='box', grid=True, figsize=(8,6))\n",
    "pl.set_xlabel('')\n",
    "pl.set_ylabel('Мощность, л.с.')\n",
    "pl.set_title('Распределение признака Power')"
   ]
  },
  {
   "cell_type": "code",
   "execution_count": 26,
   "metadata": {},
   "outputs": [
    {
     "data": {
      "text/plain": [
       "Text(0.5, 1.0, 'Распределение признака Power')"
      ]
     },
     "execution_count": 26,
     "metadata": {},
     "output_type": "execute_result"
    },
    {
     "data": {
      "image/png": "[encoded data removed]",
      "text/plain": [
       "<Figure size 576x432 with 1 Axes>"
      ]
     },
     "metadata": {
      "needs_background": "light"
     },
     "output_type": "display_data"
    }
   ],
   "source": [
    "pl = df['Power'].plot(kind='hist',bins=100,figsize=(8,6), grid=True)\n",
    "pl.set_xlabel('Мощность, л.с.')\n",
    "pl.set_ylabel('Частота')\n",
    "pl.set_title('Распределение признака Power')"
   ]
  },
  {
   "cell_type": "markdown",
   "metadata": {},
   "source": [
    "Наблюдаем выбросы с объявлениями с нереалистичной мощностью авто. Помимо этого оценим количество авто с нулевой мощностью."
   ]
  },
  {
   "cell_type": "code",
   "execution_count": 27,
   "metadata": {},
   "outputs": [
    {
     "data": {
      "text/plain": [
       "329"
      ]
     },
     "execution_count": 27,
     "metadata": {},
     "output_type": "execute_result"
    }
   ],
   "source": [
    "df[df['Power']>900]['Power'].count()"
   ]
  },
  {
   "cell_type": "code",
   "execution_count": 28,
   "metadata": {},
   "outputs": [
    {
     "data": {
      "text/plain": [
       "40225"
      ]
     },
     "execution_count": 28,
     "metadata": {},
     "output_type": "execute_result"
    }
   ],
   "source": [
    "df[df['Power']==0]['Power'].count()"
   ]
  },
  {
   "cell_type": "code",
   "execution_count": 29,
   "metadata": {
    "scrolled": false
   },
   "outputs": [
    {
     "data": {
      "text/plain": [
       "Text(0.5, 1.0, 'Распределение отфильтрованного признака Power')"
      ]
     },
     "execution_count": 29,
     "metadata": {},
     "output_type": "execute_result"
    },
    {
     "data": {
      "image/png": "[encoded data removed]",
      "text/plain": [
       "<Figure size 576x432 with 1 Axes>"
      ]
     },
     "metadata": {
      "needs_background": "light"
     },
     "output_type": "display_data"
    }
   ],
   "source": [
    "pl = df[df['Power']<900]['Power'].plot(kind='hist',bins=100,figsize=(8,6), grid=True)\n",
    "pl.set_xlabel('Мощность, л.с.')\n",
    "pl.set_ylabel('Частота')\n",
    "pl.set_title('Распределение отфильтрованного признака Power')"
   ]
  },
  {
   "cell_type": "markdown",
   "metadata": {},
   "source": [
    "Заменим в столбце *Power* значения, равные 0, на среднее для конкретной модели авто."
   ]
  },
  {
   "cell_type": "code",
   "execution_count": 30,
   "metadata": {},
   "outputs": [],
   "source": [
    "df = df[df['Price']!=0]"
   ]
  },
  {
   "cell_type": "code",
   "execution_count": 31,
   "metadata": {},
   "outputs": [],
   "source": [
    "mean_power = df.groupby('Model')['Power'].mean().to_dict()"
   ]
  },
  {
   "cell_type": "code",
   "execution_count": 32,
   "metadata": {},
   "outputs": [],
   "source": [
    "def fill_power_nulls(row, power_dict):\n",
    "    if row['Power']==0:\n",
    "        return power_dict[row['Model']]\n",
    "    else:\n",
    "        return row['Power']"
   ]
  },
  {
   "cell_type": "code",
   "execution_count": 33,
   "metadata": {},
   "outputs": [],
   "source": [
    "df = df[df['Power']<900]"
   ]
  },
  {
   "cell_type": "code",
   "execution_count": 34,
   "metadata": {},
   "outputs": [
    {
     "data": {
      "text/plain": [
       "Text(0.5, 1.0, 'Распределение признака Power после обработки')"
      ]
     },
     "execution_count": 34,
     "metadata": {},
     "output_type": "execute_result"
    },
    {
     "data": {
      "image/png": "[encoded data removed]",
      "text/plain": [
       "<Figure size 576x432 with 1 Axes>"
      ]
     },
     "metadata": {
      "needs_background": "light"
     },
     "output_type": "display_data"
    }
   ],
   "source": [
    "df['Power'] = df.apply(fill_power_nulls, power_dict=mean_power, axis=1)\n",
    "pl = df['Power'].plot(kind='hist',bins=100,figsize=(8,6), grid=True)\n",
    "pl.set_xlabel('Мощность, л.с.')\n",
    "pl.set_ylabel('Частота')\n",
    "pl.set_title('Распределение признака Power после обработки')"
   ]
  },
  {
   "cell_type": "code",
   "execution_count": 35,
   "metadata": {},
   "outputs": [],
   "source": [
    "df = df[(df['RegistrationYear']<=2019) & (df['RegistrationYear']>1950)]"
   ]
  },
  {
   "cell_type": "markdown",
   "metadata": {},
   "source": [
    "## Выводы"
   ]
  },
  {
   "cell_type": "code",
   "execution_count": 36,
   "metadata": {
    "scrolled": true
   },
   "outputs": [
    {
     "name": "stdout",
     "output_type": "stream",
     "text": [
      "<class 'pandas.core.frame.DataFrame'>\n",
      "Int64Index: 343013 entries, 0 to 354368\n",
      "Data columns (total 10 columns):\n",
      "Price               343013 non-null int64\n",
      "VehicleType         343013 non-null object\n",
      "RegistrationYear    343013 non-null int64\n",
      "Gearbox             343013 non-null object\n",
      "Power               343013 non-null float64\n",
      "Model               343013 non-null object\n",
      "Kilometer           343013 non-null int64\n",
      "FuelType            343013 non-null object\n",
      "Brand               343013 non-null object\n",
      "NotRepaired         343013 non-null object\n",
      "dtypes: float64(1), int64(3), object(6)\n",
      "memory usage: 28.8+ MB\n"
     ]
    }
   ],
   "source": [
    "df.info()"
   ]
  },
  {
   "cell_type": "code",
   "execution_count": 37,
   "metadata": {
    "scrolled": false
   },
   "outputs": [
    {
     "name": "stdout",
     "output_type": "stream",
     "text": [
      "Доля пропусков в столбце Price: 0.00%\n",
      "Доля пропусков в столбце VehicleType: 0.00%\n",
      "Доля пропусков в столбце RegistrationYear: 0.00%\n",
      "Доля пропусков в столбце Gearbox: 0.00%\n",
      "Доля пропусков в столбце Power: 0.00%\n",
      "Доля пропусков в столбце Model: 0.00%\n",
      "Доля пропусков в столбце Kilometer: 0.00%\n",
      "Доля пропусков в столбце FuelType: 0.00%\n",
      "Доля пропусков в столбце Brand: 0.00%\n",
      "Доля пропусков в столбце NotRepaired: 0.00%\n"
     ]
    }
   ],
   "source": [
    "for col in df.columns:\n",
    "    print('Доля пропусков в столбце {}: {:.2%}'.format(col, df[col].isna().sum()/df[col].count()))"
   ]
  },
  {
   "cell_type": "code",
   "execution_count": 38,
   "metadata": {},
   "outputs": [
    {
     "data": {
      "text/html": [
       "<div>\n",
       "<style scoped>\n",
       "    .dataframe tbody tr th:only-of-type {\n",
       "        vertical-align: middle;\n",
       "    }\n",
       "\n",
       "    .dataframe tbody tr th {\n",
       "        vertical-align: top;\n",
       "    }\n",
       "\n",
       "    .dataframe thead th {\n",
       "        text-align: right;\n",
       "    }\n",
       "</style>\n",
       "<table border=\"1\" class=\"dataframe\">\n",
       "  <thead>\n",
       "    <tr style=\"text-align: right;\">\n",
       "      <th></th>\n",
       "      <th>Price</th>\n",
       "      <th>RegistrationYear</th>\n",
       "      <th>Power</th>\n",
       "      <th>Kilometer</th>\n",
       "    </tr>\n",
       "  </thead>\n",
       "  <tbody>\n",
       "    <tr>\n",
       "      <td>count</td>\n",
       "      <td>343013.000000</td>\n",
       "      <td>343013.000000</td>\n",
       "      <td>343013.000000</td>\n",
       "      <td>343013.00000</td>\n",
       "    </tr>\n",
       "    <tr>\n",
       "      <td>mean</td>\n",
       "      <td>4556.460152</td>\n",
       "      <td>2003.211272</td>\n",
       "      <td>118.510173</td>\n",
       "      <td>128415.90552</td>\n",
       "    </tr>\n",
       "    <tr>\n",
       "      <td>std</td>\n",
       "      <td>4514.699039</td>\n",
       "      <td>7.203562</td>\n",
       "      <td>52.869546</td>\n",
       "      <td>37405.27175</td>\n",
       "    </tr>\n",
       "    <tr>\n",
       "      <td>min</td>\n",
       "      <td>1.000000</td>\n",
       "      <td>1951.000000</td>\n",
       "      <td>0.000000</td>\n",
       "      <td>5000.00000</td>\n",
       "    </tr>\n",
       "    <tr>\n",
       "      <td>25%</td>\n",
       "      <td>1200.000000</td>\n",
       "      <td>1999.000000</td>\n",
       "      <td>75.000000</td>\n",
       "      <td>125000.00000</td>\n",
       "    </tr>\n",
       "    <tr>\n",
       "      <td>50%</td>\n",
       "      <td>2890.000000</td>\n",
       "      <td>2003.000000</td>\n",
       "      <td>109.000000</td>\n",
       "      <td>150000.00000</td>\n",
       "    </tr>\n",
       "    <tr>\n",
       "      <td>75%</td>\n",
       "      <td>6500.000000</td>\n",
       "      <td>2008.000000</td>\n",
       "      <td>143.000000</td>\n",
       "      <td>150000.00000</td>\n",
       "    </tr>\n",
       "    <tr>\n",
       "      <td>max</td>\n",
       "      <td>20000.000000</td>\n",
       "      <td>2019.000000</td>\n",
       "      <td>871.000000</td>\n",
       "      <td>150000.00000</td>\n",
       "    </tr>\n",
       "  </tbody>\n",
       "</table>\n",
       "</div>"
      ],
      "text/plain": [
       "               Price  RegistrationYear          Power     Kilometer\n",
       "count  343013.000000     343013.000000  343013.000000  343013.00000\n",
       "mean     4556.460152       2003.211272     118.510173  128415.90552\n",
       "std      4514.699039          7.203562      52.869546   37405.27175\n",
       "min         1.000000       1951.000000       0.000000    5000.00000\n",
       "25%      1200.000000       1999.000000      75.000000  125000.00000\n",
       "50%      2890.000000       2003.000000     109.000000  150000.00000\n",
       "75%      6500.000000       2008.000000     143.000000  150000.00000\n",
       "max     20000.000000       2019.000000     871.000000  150000.00000"
      ]
     },
     "execution_count": 38,
     "metadata": {},
     "output_type": "execute_result"
    }
   ],
   "source": [
    "df.describe()"
   ]
  },
  {
   "cell_type": "code",
   "execution_count": 39,
   "metadata": {},
   "outputs": [
    {
     "data": {
      "text/html": [
       "<style  type=\"text/css\" >\n",
       "    #T_35a3be24_2b22_11eb_a881_02420a39170drow0_col0 {\n",
       "            background-color:  #f0f921;\n",
       "            color:  #000000;\n",
       "        }    #T_35a3be24_2b22_11eb_a881_02420a39170drow0_col1 {\n",
       "            background-color:  #9613a1;\n",
       "            color:  #f1f1f1;\n",
       "        }    #T_35a3be24_2b22_11eb_a881_02420a39170drow0_col2 {\n",
       "            background-color:  #be3885;\n",
       "            color:  #f1f1f1;\n",
       "        }    #T_35a3be24_2b22_11eb_a881_02420a39170drow0_col3 {\n",
       "            background-color:  #8a09a5;\n",
       "            color:  #f1f1f1;\n",
       "        }    #T_35a3be24_2b22_11eb_a881_02420a39170drow1_col0 {\n",
       "            background-color:  #9613a1;\n",
       "            color:  #f1f1f1;\n",
       "        }    #T_35a3be24_2b22_11eb_a881_02420a39170drow1_col1 {\n",
       "            background-color:  #f0f921;\n",
       "            color:  #000000;\n",
       "        }    #T_35a3be24_2b22_11eb_a881_02420a39170drow1_col2 {\n",
       "            background-color:  #0d0887;\n",
       "            color:  #f1f1f1;\n",
       "        }    #T_35a3be24_2b22_11eb_a881_02420a39170drow1_col3 {\n",
       "            background-color:  #48039f;\n",
       "            color:  #f1f1f1;\n",
       "        }    #T_35a3be24_2b22_11eb_a881_02420a39170drow2_col0 {\n",
       "            background-color:  #be3885;\n",
       "            color:  #f1f1f1;\n",
       "        }    #T_35a3be24_2b22_11eb_a881_02420a39170drow2_col1 {\n",
       "            background-color:  #0d0887;\n",
       "            color:  #f1f1f1;\n",
       "        }    #T_35a3be24_2b22_11eb_a881_02420a39170drow2_col2 {\n",
       "            background-color:  #f0f921;\n",
       "            color:  #000000;\n",
       "        }    #T_35a3be24_2b22_11eb_a881_02420a39170drow2_col3 {\n",
       "            background-color:  #0d0887;\n",
       "            color:  #f1f1f1;\n",
       "        }    #T_35a3be24_2b22_11eb_a881_02420a39170drow3_col0 {\n",
       "            background-color:  #8a09a5;\n",
       "            color:  #f1f1f1;\n",
       "        }    #T_35a3be24_2b22_11eb_a881_02420a39170drow3_col1 {\n",
       "            background-color:  #48039f;\n",
       "            color:  #f1f1f1;\n",
       "        }    #T_35a3be24_2b22_11eb_a881_02420a39170drow3_col2 {\n",
       "            background-color:  #0d0887;\n",
       "            color:  #f1f1f1;\n",
       "        }    #T_35a3be24_2b22_11eb_a881_02420a39170drow3_col3 {\n",
       "            background-color:  #f0f921;\n",
       "            color:  #000000;\n",
       "        }</style><table id=\"T_35a3be24_2b22_11eb_a881_02420a39170d\" ><thead>    <tr>        <th class=\"blank level0\" ></th>        <th class=\"col_heading level0 col0\" >Price</th>        <th class=\"col_heading level0 col1\" >RegistrationYear</th>        <th class=\"col_heading level0 col2\" >Power</th>        <th class=\"col_heading level0 col3\" >Kilometer</th>    </tr></thead><tbody>\n",
       "                <tr>\n",
       "                        <th id=\"T_35a3be24_2b22_11eb_a881_02420a39170dlevel0_row0\" class=\"row_heading level0 row0\" >Price</th>\n",
       "                        <td id=\"T_35a3be24_2b22_11eb_a881_02420a39170drow0_col0\" class=\"data row0 col0\" >1</td>\n",
       "                        <td id=\"T_35a3be24_2b22_11eb_a881_02420a39170drow0_col1\" class=\"data row0 col1\" >0.385612</td>\n",
       "                        <td id=\"T_35a3be24_2b22_11eb_a881_02420a39170drow0_col2\" class=\"data row0 col2\" >0.501206</td>\n",
       "                        <td id=\"T_35a3be24_2b22_11eb_a881_02420a39170drow0_col3\" class=\"data row0 col3\" >0.352267</td>\n",
       "            </tr>\n",
       "            <tr>\n",
       "                        <th id=\"T_35a3be24_2b22_11eb_a881_02420a39170dlevel0_row1\" class=\"row_heading level0 row1\" >RegistrationYear</th>\n",
       "                        <td id=\"T_35a3be24_2b22_11eb_a881_02420a39170drow1_col0\" class=\"data row1 col0\" >0.385612</td>\n",
       "                        <td id=\"T_35a3be24_2b22_11eb_a881_02420a39170drow1_col1\" class=\"data row1 col1\" >1</td>\n",
       "                        <td id=\"T_35a3be24_2b22_11eb_a881_02420a39170drow1_col2\" class=\"data row1 col2\" >0.0994497</td>\n",
       "                        <td id=\"T_35a3be24_2b22_11eb_a881_02420a39170drow1_col3\" class=\"data row1 col3\" >0.201482</td>\n",
       "            </tr>\n",
       "            <tr>\n",
       "                        <th id=\"T_35a3be24_2b22_11eb_a881_02420a39170dlevel0_row2\" class=\"row_heading level0 row2\" >Power</th>\n",
       "                        <td id=\"T_35a3be24_2b22_11eb_a881_02420a39170drow2_col0\" class=\"data row2 col0\" >0.501206</td>\n",
       "                        <td id=\"T_35a3be24_2b22_11eb_a881_02420a39170drow2_col1\" class=\"data row2 col1\" >0.0994497</td>\n",
       "                        <td id=\"T_35a3be24_2b22_11eb_a881_02420a39170drow2_col2\" class=\"data row2 col2\" >1</td>\n",
       "                        <td id=\"T_35a3be24_2b22_11eb_a881_02420a39170drow2_col3\" class=\"data row2 col3\" >0.0986023</td>\n",
       "            </tr>\n",
       "            <tr>\n",
       "                        <th id=\"T_35a3be24_2b22_11eb_a881_02420a39170dlevel0_row3\" class=\"row_heading level0 row3\" >Kilometer</th>\n",
       "                        <td id=\"T_35a3be24_2b22_11eb_a881_02420a39170drow3_col0\" class=\"data row3 col0\" >0.352267</td>\n",
       "                        <td id=\"T_35a3be24_2b22_11eb_a881_02420a39170drow3_col1\" class=\"data row3 col1\" >0.201482</td>\n",
       "                        <td id=\"T_35a3be24_2b22_11eb_a881_02420a39170drow3_col2\" class=\"data row3 col2\" >0.0986023</td>\n",
       "                        <td id=\"T_35a3be24_2b22_11eb_a881_02420a39170drow3_col3\" class=\"data row3 col3\" >1</td>\n",
       "            </tr>\n",
       "    </tbody></table>"
      ],
      "text/plain": [
       "<pandas.io.formats.style.Styler at 0x7f66c0e83790>"
      ]
     },
     "execution_count": 39,
     "metadata": {},
     "output_type": "execute_result"
    }
   ],
   "source": [
    "corr_matrix = df[['Price','RegistrationYear','Power','Kilometer']].corr().abs()\n",
    "corr_matrix.style.background_gradient(cmap='plasma', axis=None)"
   ]
  },
  {
   "cell_type": "markdown",
   "metadata": {},
   "source": [
    "В обработанном датафрейме не наблюдается сильных корреляций и выбросов в оставшихся параметрах.\n",
    "\n",
    "Приступим к обучению моделей."
   ]
  },
  {
   "cell_type": "markdown",
   "metadata": {},
   "source": [
    "<a href='#start'>К содержанию</a>"
   ]
  },
  {
   "cell_type": "markdown",
   "metadata": {},
   "source": [
    "<a id='step2'></a>\n",
    "# 2. Обучение моделей"
   ]
  },
  {
   "cell_type": "markdown",
   "metadata": {},
   "source": [
    "Подготовим выборки для обучения моделей LightGBM, случайного леса и логистической регрессии, закодировав категориальные признаки.\n",
    "\n",
    "Для обучения с использованием CatBoost воспользуемся предобработанной выборкой без кодирования, поскольку указанная библиотеки имеет встроенные механизмы кодирования."
   ]
  },
  {
   "cell_type": "markdown",
   "metadata": {},
   "source": [
    "### Подготовка кодированных выборок"
   ]
  },
  {
   "cell_type": "markdown",
   "metadata": {},
   "source": [
    "Воспользуемся функцией кодирования средним для категорий с большим количеством вариантов - *Model* и *Brand*. Для остальных категорий применим технику OHE."
   ]
  },
  {
   "cell_type": "code",
   "execution_count": 40,
   "metadata": {},
   "outputs": [],
   "source": [
    "warnings.simplefilter(action=\"ignore\", category=SettingWithCopyWarning)\n",
    "\n",
    "\n",
    "#функция найдена на просторах интернета, не самописная :)\n",
    "def make_mean_encoding(df_tr, target_col_name, feature_col_name):\n",
    "    y_tr = df_tr[target_col_name].values\n",
    "    skf = StratifiedKFold(n_splits=2, shuffle=True, random_state=123)\n",
    "    train_new = df_tr.copy()\n",
    " \n",
    "    global_mean = df_tr[target_col_name].mean()\n",
    "    train_new[feature_col_name + '_mean_target'] = global_mean\n",
    " \n",
    "    for tr_ind, val_ind in skf.split(y_tr, y_tr):\n",
    "        X_tr, X_val = df_tr.iloc[tr_ind], df_tr.iloc[val_ind]\n",
    "        for col in [feature_col_name]:\n",
    "            means = X_val[col].map(X_tr.groupby(col)[target_col_name].mean())\n",
    "            X_val[col + '_mean_target'] = means\n",
    "        train_new.iloc[val_ind] = X_val\n",
    " \n",
    "    train_new.fillna(global_mean, inplace=True)\n",
    " \n",
    "    return train_new"
   ]
  },
  {
   "cell_type": "code",
   "execution_count": 42,
   "metadata": {},
   "outputs": [
    {
     "data": {
      "text/html": [
       "<div>\n",
       "<style scoped>\n",
       "    .dataframe tbody tr th:only-of-type {\n",
       "        vertical-align: middle;\n",
       "    }\n",
       "\n",
       "    .dataframe tbody tr th {\n",
       "        vertical-align: top;\n",
       "    }\n",
       "\n",
       "    .dataframe thead th {\n",
       "        text-align: right;\n",
       "    }\n",
       "</style>\n",
       "<table border=\"1\" class=\"dataframe\">\n",
       "  <thead>\n",
       "    <tr style=\"text-align: right;\">\n",
       "      <th></th>\n",
       "      <th>Price</th>\n",
       "      <th>RegistrationYear</th>\n",
       "      <th>Power</th>\n",
       "      <th>Kilometer</th>\n",
       "      <th>Model_mean_target</th>\n",
       "      <th>Brand_mean_target</th>\n",
       "      <th>VehicleType_convertible</th>\n",
       "      <th>VehicleType_coupe</th>\n",
       "      <th>VehicleType_other</th>\n",
       "      <th>VehicleType_sedan</th>\n",
       "      <th>...</th>\n",
       "      <th>Gearbox_manual</th>\n",
       "      <th>Gearbox_unknown</th>\n",
       "      <th>FuelType_electric</th>\n",
       "      <th>FuelType_gasoline</th>\n",
       "      <th>FuelType_hybrid</th>\n",
       "      <th>FuelType_lpg</th>\n",
       "      <th>FuelType_other</th>\n",
       "      <th>FuelType_petrol</th>\n",
       "      <th>NotRepaired_unknown</th>\n",
       "      <th>NotRepaired_yes</th>\n",
       "    </tr>\n",
       "  </thead>\n",
       "  <tbody>\n",
       "    <tr>\n",
       "      <td>0</td>\n",
       "      <td>480</td>\n",
       "      <td>1993</td>\n",
       "      <td>98.307548</td>\n",
       "      <td>150000</td>\n",
       "      <td>4319.838925</td>\n",
       "      <td>4541.638094</td>\n",
       "      <td>0</td>\n",
       "      <td>0</td>\n",
       "      <td>1</td>\n",
       "      <td>0</td>\n",
       "      <td>...</td>\n",
       "      <td>1</td>\n",
       "      <td>0</td>\n",
       "      <td>0</td>\n",
       "      <td>0</td>\n",
       "      <td>0</td>\n",
       "      <td>0</td>\n",
       "      <td>0</td>\n",
       "      <td>1</td>\n",
       "      <td>1</td>\n",
       "      <td>0</td>\n",
       "    </tr>\n",
       "    <tr>\n",
       "      <td>1</td>\n",
       "      <td>18300</td>\n",
       "      <td>2011</td>\n",
       "      <td>190.000000</td>\n",
       "      <td>125000</td>\n",
       "      <td>4045.946856</td>\n",
       "      <td>6413.853907</td>\n",
       "      <td>0</td>\n",
       "      <td>1</td>\n",
       "      <td>0</td>\n",
       "      <td>0</td>\n",
       "      <td>...</td>\n",
       "      <td>1</td>\n",
       "      <td>0</td>\n",
       "      <td>0</td>\n",
       "      <td>1</td>\n",
       "      <td>0</td>\n",
       "      <td>0</td>\n",
       "      <td>0</td>\n",
       "      <td>0</td>\n",
       "      <td>0</td>\n",
       "      <td>1</td>\n",
       "    </tr>\n",
       "    <tr>\n",
       "      <td>2</td>\n",
       "      <td>9800</td>\n",
       "      <td>2004</td>\n",
       "      <td>163.000000</td>\n",
       "      <td>125000</td>\n",
       "      <td>6466.674074</td>\n",
       "      <td>7318.968454</td>\n",
       "      <td>0</td>\n",
       "      <td>0</td>\n",
       "      <td>0</td>\n",
       "      <td>0</td>\n",
       "      <td>...</td>\n",
       "      <td>0</td>\n",
       "      <td>0</td>\n",
       "      <td>0</td>\n",
       "      <td>1</td>\n",
       "      <td>0</td>\n",
       "      <td>0</td>\n",
       "      <td>0</td>\n",
       "      <td>0</td>\n",
       "      <td>1</td>\n",
       "      <td>0</td>\n",
       "    </tr>\n",
       "    <tr>\n",
       "      <td>3</td>\n",
       "      <td>1500</td>\n",
       "      <td>2001</td>\n",
       "      <td>75.000000</td>\n",
       "      <td>150000</td>\n",
       "      <td>4280.313851</td>\n",
       "      <td>4530.268944</td>\n",
       "      <td>0</td>\n",
       "      <td>0</td>\n",
       "      <td>0</td>\n",
       "      <td>0</td>\n",
       "      <td>...</td>\n",
       "      <td>1</td>\n",
       "      <td>0</td>\n",
       "      <td>0</td>\n",
       "      <td>0</td>\n",
       "      <td>0</td>\n",
       "      <td>0</td>\n",
       "      <td>0</td>\n",
       "      <td>1</td>\n",
       "      <td>0</td>\n",
       "      <td>0</td>\n",
       "    </tr>\n",
       "    <tr>\n",
       "      <td>4</td>\n",
       "      <td>3600</td>\n",
       "      <td>2008</td>\n",
       "      <td>69.000000</td>\n",
       "      <td>90000</td>\n",
       "      <td>4237.730539</td>\n",
       "      <td>5984.638753</td>\n",
       "      <td>0</td>\n",
       "      <td>0</td>\n",
       "      <td>0</td>\n",
       "      <td>0</td>\n",
       "      <td>...</td>\n",
       "      <td>1</td>\n",
       "      <td>0</td>\n",
       "      <td>0</td>\n",
       "      <td>1</td>\n",
       "      <td>0</td>\n",
       "      <td>0</td>\n",
       "      <td>0</td>\n",
       "      <td>0</td>\n",
       "      <td>0</td>\n",
       "      <td>0</td>\n",
       "    </tr>\n",
       "  </tbody>\n",
       "</table>\n",
       "<p>5 rows × 23 columns</p>\n",
       "</div>"
      ],
      "text/plain": [
       "   Price  RegistrationYear       Power  Kilometer  Model_mean_target  \\\n",
       "0    480              1993   98.307548     150000        4319.838925   \n",
       "1  18300              2011  190.000000     125000        4045.946856   \n",
       "2   9800              2004  163.000000     125000        6466.674074   \n",
       "3   1500              2001   75.000000     150000        4280.313851   \n",
       "4   3600              2008   69.000000      90000        4237.730539   \n",
       "\n",
       "   Brand_mean_target  VehicleType_convertible  VehicleType_coupe  \\\n",
       "0        4541.638094                        0                  0   \n",
       "1        6413.853907                        0                  1   \n",
       "2        7318.968454                        0                  0   \n",
       "3        4530.268944                        0                  0   \n",
       "4        5984.638753                        0                  0   \n",
       "\n",
       "   VehicleType_other  VehicleType_sedan  ...  Gearbox_manual  Gearbox_unknown  \\\n",
       "0                  1                  0  ...               1                0   \n",
       "1                  0                  0  ...               1                0   \n",
       "2                  0                  0  ...               0                0   \n",
       "3                  0                  0  ...               1                0   \n",
       "4                  0                  0  ...               1                0   \n",
       "\n",
       "   FuelType_electric  FuelType_gasoline  FuelType_hybrid  FuelType_lpg  \\\n",
       "0                  0                  0                0             0   \n",
       "1                  0                  1                0             0   \n",
       "2                  0                  1                0             0   \n",
       "3                  0                  0                0             0   \n",
       "4                  0                  1                0             0   \n",
       "\n",
       "   FuelType_other  FuelType_petrol  NotRepaired_unknown  NotRepaired_yes  \n",
       "0               0                1                    1                0  \n",
       "1               0                0                    0                1  \n",
       "2               0                0                    1                0  \n",
       "3               0                1                    0                0  \n",
       "4               0                0                    0                0  \n",
       "\n",
       "[5 rows x 23 columns]"
      ]
     },
     "execution_count": 42,
     "metadata": {},
     "output_type": "execute_result"
    }
   ],
   "source": [
    "df_encoded = make_mean_encoding(df, 'Price', 'Model')\n",
    "df_encoded = make_mean_encoding(df_encoded, 'Price', 'Brand')\n",
    "df_encoded = df_encoded.drop(['Model' ,'Brand'], axis=1)\n",
    "df_encoded = pd.get_dummies(df_encoded, drop_first=True)\n",
    "df_encoded.head()"
   ]
  },
  {
   "cell_type": "markdown",
   "metadata": {},
   "source": [
    "Получим обучающую и тестовую выборки. Валидационная выборка не потребуется, поскольку будем использовать кросс-валидацию при обучении."
   ]
  },
  {
   "cell_type": "code",
   "execution_count": 43,
   "metadata": {},
   "outputs": [],
   "source": [
    "target_encoded = df_encoded['Price']\n",
    "features_encoded = df_encoded.drop('Price', axis=1)\n",
    "\n",
    "features_encoded_train, features_encoded_test, target_encoded_train, target_encoded_test = train_test_split(\n",
    "    features_encoded, target_encoded, test_size=0.2, random_state=127)"
   ]
  },
  {
   "cell_type": "code",
   "execution_count": 44,
   "metadata": {},
   "outputs": [
    {
     "name": "stdout",
     "output_type": "stream",
     "text": [
      "(274410, 22)\n",
      "(68603, 22)\n"
     ]
    }
   ],
   "source": [
    "print(features_encoded_train.shape)\n",
    "print(features_encoded_test.shape)"
   ]
  },
  {
   "cell_type": "markdown",
   "metadata": {},
   "source": [
    "Проведем масштабирование призанков *RegistrationYear*, *Power*, *Kilometer*, *Model_mean_target*, *Brand_mean_target*."
   ]
  },
  {
   "cell_type": "code",
   "execution_count": 45,
   "metadata": {},
   "outputs": [],
   "source": [
    "numeric = ['RegistrationYear', 'Power', 'Kilometer', 'Model_mean_target', 'Brand_mean_target']\n",
    "\n",
    "scaler = StandardScaler()\n",
    "scaler.fit(features_encoded_train[numeric])\n",
    "features_encoded_train[numeric] = scaler.transform(features_encoded_train[numeric])\n",
    "features_encoded_test[numeric] = scaler.transform(features_encoded_test[numeric])"
   ]
  },
  {
   "cell_type": "markdown",
   "metadata": {},
   "source": [
    "### Подготовка некодированных выборок"
   ]
  },
  {
   "cell_type": "markdown",
   "metadata": {},
   "source": [
    "Аналогично кодированным, проведем подготовку некодированных выборок."
   ]
  },
  {
   "cell_type": "code",
   "execution_count": 46,
   "metadata": {},
   "outputs": [],
   "source": [
    "target = df['Price']\n",
    "features = df.drop('Price', axis=1)\n",
    "\n",
    "features_train, features_test, target_train, target_test = train_test_split(\n",
    "    features, target, test_size=0.2, random_state=127)"
   ]
  },
  {
   "cell_type": "code",
   "execution_count": 47,
   "metadata": {},
   "outputs": [
    {
     "name": "stdout",
     "output_type": "stream",
     "text": [
      "(274410, 9)\n",
      "(68603, 9)\n"
     ]
    }
   ],
   "source": [
    "print(features_train.shape)\n",
    "print(features_test.shape)"
   ]
  },
  {
   "cell_type": "markdown",
   "metadata": {},
   "source": [
    "Проведем масштабирование призанков *RegistrationYear*, *Power*, *Kilometer*."
   ]
  },
  {
   "cell_type": "code",
   "execution_count": 48,
   "metadata": {},
   "outputs": [],
   "source": [
    "numeric = ['RegistrationYear', 'Power', 'Kilometer']\n",
    "\n",
    "scaler = StandardScaler()\n",
    "scaler.fit(features_train[numeric])\n",
    "features_train[numeric] = scaler.transform(features_train[numeric])\n",
    "features_test[numeric] = scaler.transform(features_test[numeric])"
   ]
  },
  {
   "cell_type": "markdown",
   "metadata": {},
   "source": [
    "### Обучение моделей"
   ]
  },
  {
   "cell_type": "code",
   "execution_count": 49,
   "metadata": {},
   "outputs": [],
   "source": [
    "def rmse(trgt, pred):\n",
    "    return mean_squared_error(trgt, pred) ** 0.5\n",
    "rmse_scorer = make_scorer(rmse,greater_is_better=False)"
   ]
  },
  {
   "cell_type": "code",
   "execution_count": 50,
   "metadata": {},
   "outputs": [],
   "source": [
    "rmse_scorer2 = make_scorer(rmse,greater_is_better=True)"
   ]
  },
  {
   "cell_type": "code",
   "execution_count": 51,
   "metadata": {},
   "outputs": [],
   "source": [
    "result_array = []"
   ]
  },
  {
   "cell_type": "markdown",
   "metadata": {},
   "source": [
    "#### Линейная регрессия"
   ]
  },
  {
   "cell_type": "code",
   "execution_count": 52,
   "metadata": {
    "scrolled": false
   },
   "outputs": [
    {
     "name": "stdout",
     "output_type": "stream",
     "text": [
      "Среднее значение RMSE для линейной регрессии при кросс-валидации: -2789.347733900202\n",
      "CPU times: user 1.16 s, sys: 510 ms, total: 1.67 s\n",
      "Wall time: 1.69 s\n"
     ]
    }
   ],
   "source": [
    "%%time\n",
    "model_lin_reg = LinearRegression()\n",
    "cv_lin_reg = cross_val_score(model_lin_reg, features_encoded_train, target_encoded_train, cv=3, scoring=rmse_scorer)\n",
    "rmse_lr = np.mean(cv_lin_reg)\n",
    "print('Среднее значение RMSE для линейной регрессии при кросс-валидации:', rmse_lr)"
   ]
  },
  {
   "cell_type": "code",
   "execution_count": 53,
   "metadata": {},
   "outputs": [
    {
     "name": "stdout",
     "output_type": "stream",
     "text": [
      "Среднее значение RMSE для линейной регрессии при кросс-валидации для альтернативной функции scorer: 2789.347733900202\n"
     ]
    }
   ],
   "source": [
    "cv_lin_reg = cross_val_score(model_lin_reg, features_encoded_train, target_encoded_train, cv=3, scoring=rmse_scorer2)\n",
    "rmse_lr = np.mean(cv_lin_reg)\n",
    "print('Среднее значение RMSE для линейной регрессии при кросс-валидации для альтернативной функции scorer:', rmse_lr)"
   ]
  },
  {
   "cell_type": "code",
   "execution_count": 54,
   "metadata": {},
   "outputs": [
    {
     "name": "stdout",
     "output_type": "stream",
     "text": [
      "CPU times: user 379 ms, sys: 159 ms, total: 538 ms\n",
      "Wall time: 610 ms\n"
     ]
    },
    {
     "data": {
      "text/plain": [
       "LinearRegression(copy_X=True, fit_intercept=True, n_jobs=None, normalize=False)"
      ]
     },
     "execution_count": 54,
     "metadata": {},
     "output_type": "execute_result"
    }
   ],
   "source": [
    "%%time\n",
    "model_lin_reg.fit(features_encoded_train, target_encoded_train)"
   ]
  },
  {
   "cell_type": "code",
   "execution_count": 55,
   "metadata": {
    "scrolled": true
   },
   "outputs": [
    {
     "name": "stdout",
     "output_type": "stream",
     "text": [
      "CPU times: user 23.4 ms, sys: 20.4 ms, total: 43.8 ms\n",
      "Wall time: 13.7 ms\n"
     ]
    }
   ],
   "source": [
    "%%time\n",
    "lr_pred = model_lin_reg.predict(features_encoded_test)"
   ]
  },
  {
   "cell_type": "code",
   "execution_count": 56,
   "metadata": {},
   "outputs": [],
   "source": [
    "result_array.append(['LR', rmse(target_encoded_test, lr_pred), np.abs(rmse_lr), 0.268, 0.020])"
   ]
  },
  {
   "cell_type": "markdown",
   "metadata": {},
   "source": [
    "#### CatBoostRegressor"
   ]
  },
  {
   "cell_type": "code",
   "execution_count": 57,
   "metadata": {},
   "outputs": [
    {
     "name": "stdout",
     "output_type": "stream",
     "text": [
      "CPU times: user 235 µs, sys: 18 µs, total: 253 µs\n",
      "Wall time: 229 µs\n"
     ]
    }
   ],
   "source": [
    "%%time\n",
    "\n",
    "cb_random_grid = {\n",
    "    'depth': [int(x) for x in range(2, 16, 3)],\n",
    "    'learning_rate' : [float(x) for x in np.arange(0.01, 0.3, 0.03)],\n",
    "    'iterations': [150, 200]\n",
    "}\n",
    "\n",
    "cb = CatBoostRegressor()\n",
    "\n",
    "random_search_cb = RandomizedSearchCV(cv=3, param_distributions=cb_random_grid, n_jobs=-1, scoring=rmse_scorer, estimator=cb, n_iter=50, random_state=127)\n",
    "#random_search_cb.fit(features_encoded_train, target_encoded_train)\n",
    "#random_search_cb.best_params_"
   ]
  },
  {
   "cell_type": "markdown",
   "metadata": {},
   "source": [
    "Wall time: 33min 32s\n",
    "\n",
    "{'learning_rate': 0.19, 'iterations': 200, 'depth': 14}"
   ]
  },
  {
   "cell_type": "code",
   "execution_count": 58,
   "metadata": {},
   "outputs": [
    {
     "name": "stdout",
     "output_type": "stream",
     "text": [
      "CPU times: user 0 ns, sys: 37 µs, total: 37 µs\n",
      "Wall time: 41.7 µs\n"
     ]
    }
   ],
   "source": [
    "%%time\n",
    "\n",
    "cb_param_grid = {\n",
    "    'depth': [12, 14, 16],\n",
    "    'learning_rate' : [0.18, 0.19, 0.20],\n",
    "    'iterations': [200]\n",
    "}\n",
    "\n",
    "grid_searhc_cb = GridSearchCV(estimator = cb, param_grid = cb_param_grid, cv = 3, scoring=rmse_scorer, n_jobs=-1)\n",
    "\n",
    "#grid_searhc_cb.fit(features_encoded_train, target_encoded_train)\n",
    "#grid_searhc_cb.best_params_"
   ]
  },
  {
   "cell_type": "markdown",
   "metadata": {},
   "source": [
    "Wall time: 34min 40s\n",
    "\n",
    "{'depth': 14, 'iterations': 200, 'learning_rate': 0.18}"
   ]
  },
  {
   "cell_type": "code",
   "execution_count": 59,
   "metadata": {},
   "outputs": [
    {
     "name": "stdout",
     "output_type": "stream",
     "text": [
      "CPU times: user 2min 23s, sys: 17.4 s, total: 2min 40s\n",
      "Wall time: 2min 51s\n"
     ]
    },
    {
     "data": {
      "text/plain": [
       "<catboost.core.CatBoostRegressor at 0x7f66c0eb2a50>"
      ]
     },
     "execution_count": 59,
     "metadata": {},
     "output_type": "execute_result"
    }
   ],
   "source": [
    "%%time\n",
    "cb_top = CatBoostRegressor(depth=14, iterations=200, learning_rate=0.18)\n",
    "cb_top.fit(features_encoded_train, target_encoded_train, verbose=0)"
   ]
  },
  {
   "cell_type": "markdown",
   "metadata": {},
   "source": [
    "Wall time: 1min 11s"
   ]
  },
  {
   "cell_type": "code",
   "execution_count": 60,
   "metadata": {},
   "outputs": [
    {
     "name": "stdout",
     "output_type": "stream",
     "text": [
      "CPU times: user 212 ms, sys: 23.4 ms, total: 235 ms\n",
      "Wall time: 202 ms\n"
     ]
    }
   ],
   "source": [
    "%%time\n",
    "cb_pred = cb_top.predict(features_encoded_test)"
   ]
  },
  {
   "cell_type": "markdown",
   "metadata": {},
   "source": [
    "Wall time: 120 ms\n"
   ]
  },
  {
   "cell_type": "code",
   "execution_count": 61,
   "metadata": {},
   "outputs": [
    {
     "name": "stdout",
     "output_type": "stream",
     "text": [
      "Значение RMSE для лучшей модели CatBoost: 1593.1229579474284\n"
     ]
    }
   ],
   "source": [
    "print('Значение RMSE для лучшей модели CatBoost:',rmse(target_encoded_test, cb_pred))\n",
    "result_array.append(['CatBoost', rmse(target_encoded_test, cb_pred), 1621.248470, 71, 0.120]) #np.abs(grid_searhc_cb.best_score_)"
   ]
  },
  {
   "cell_type": "markdown",
   "metadata": {},
   "source": [
    "#### Случайный лес"
   ]
  },
  {
   "cell_type": "code",
   "execution_count": 62,
   "metadata": {},
   "outputs": [],
   "source": [
    "forest_param_grid = {\n",
    "    'max_depth': [int(x) for x in range(15,46,10)],\n",
    "    'n_estimators': [int(x) for x in range(80,131,10)]\n",
    "}\n",
    "\n",
    "rf = RandomForestRegressor(random_state=127)\n",
    "\n",
    "grid_search_rf = GridSearchCV(estimator = rf, param_grid = forest_param_grid, cv = 3, scoring=rmse_scorer, n_jobs=-1)"
   ]
  },
  {
   "cell_type": "code",
   "execution_count": 63,
   "metadata": {},
   "outputs": [],
   "source": [
    "%%time\n",
    "\n",
    "grid_search_rf.fit(features_encoded_train, target_encoded_train)\n",
    "grid_search_rf.best_params_"
   ]
  },
  {
   "cell_type": "markdown",
   "metadata": {},
   "source": [
    "Wall time: 38min 52s\n",
    "\n",
    "{'max_depth': 25, 'n_estimators': 130}"
   ]
  },
  {
   "cell_type": "code",
   "execution_count": 64,
   "metadata": {},
   "outputs": [
    {
     "name": "stdout",
     "output_type": "stream",
     "text": [
      "CPU times: user 3min 16s, sys: 928 ms, total: 3min 17s\n",
      "Wall time: 3min 19s\n"
     ]
    },
    {
     "data": {
      "text/plain": [
       "RandomForestRegressor(bootstrap=True, criterion='mse', max_depth=25,\n",
       "                      max_features='auto', max_leaf_nodes=None,\n",
       "                      min_impurity_decrease=0.0, min_impurity_split=None,\n",
       "                      min_samples_leaf=1, min_samples_split=2,\n",
       "                      min_weight_fraction_leaf=0.0, n_estimators=130, n_jobs=-1,\n",
       "                      oob_score=False, random_state=127, verbose=0,\n",
       "                      warm_start=False)"
      ]
     },
     "execution_count": 64,
     "metadata": {},
     "output_type": "execute_result"
    }
   ],
   "source": [
    "%%time\n",
    "\n",
    "rfr = RandomForestRegressor(random_state=127, max_depth=25, n_estimators=130, n_jobs=-1)\n",
    "rfr.fit(features_encoded_train, target_encoded_train)"
   ]
  },
  {
   "cell_type": "markdown",
   "metadata": {},
   "source": [
    "Wall time: 58.1 s"
   ]
  },
  {
   "cell_type": "code",
   "execution_count": 65,
   "metadata": {},
   "outputs": [
    {
     "name": "stdout",
     "output_type": "stream",
     "text": [
      "CPU times: user 4.71 s, sys: 0 ns, total: 4.71 s\n",
      "Wall time: 4.74 s\n"
     ]
    }
   ],
   "source": [
    "%%time\n",
    "rfr_pred = rfr.predict(features_encoded_test)"
   ]
  },
  {
   "cell_type": "markdown",
   "metadata": {},
   "source": [
    "Wall time: 1.19 s"
   ]
  },
  {
   "cell_type": "code",
   "execution_count": 66,
   "metadata": {},
   "outputs": [
    {
     "name": "stdout",
     "output_type": "stream",
     "text": [
      "Значение RMSE для лучшей модели Случайного леса: 1628.4856936591493\n"
     ]
    }
   ],
   "source": [
    "print('Значение RMSE для лучшей модели Случайного леса:',rmse(target_encoded_test, rfr_pred))\n",
    "result_array.append(['RF', rmse(target_encoded_test, rfr_pred), 1668.702373, 58.1, 1.19]) "
   ]
  },
  {
   "cell_type": "markdown",
   "metadata": {},
   "source": [
    "<div class=\"alert alert-block alert-success\">\n",
    "Комментарий ревьюера v. 4:\n",
    "    \n",
    "Отличный результат, молодец, что оцениваешь время работы модели.\n",
    "</div>"
   ]
  },
  {
   "cell_type": "markdown",
   "metadata": {},
   "source": [
    "#### Light GBM"
   ]
  },
  {
   "cell_type": "code",
   "execution_count": 67,
   "metadata": {},
   "outputs": [
    {
     "name": "stdout",
     "output_type": "stream",
     "text": [
      "CPU times: user 250 µs, sys: 0 ns, total: 250 µs\n",
      "Wall time: 173 µs\n"
     ]
    }
   ],
   "source": [
    "%%time\n",
    "\n",
    "lgbm_random_grid = {\n",
    "    'max_depth': [int(x) for x in range(2, 30, 3)],\n",
    "    'learning_rate' : [float(x) for x in np.arange(0.01, 0.3, 0.03)],\n",
    "    'feature_fraction': [0.7, 0.8, 0.9, 1.0],\n",
    "    'num_iterations' : [100, 150, 200, 250, 300],\n",
    "    'num_leaves': [int(x) for x in range(20,50,2)]\n",
    "}\n",
    "\n",
    "lgbm = lgb.LGBMRegressor(random_state=127)\n",
    "\n",
    "random_search_lgbm = RandomizedSearchCV(cv=3, param_distributions=lgbm_random_grid, n_jobs=-1, scoring=rmse_scorer, estimator=lgbm, n_iter=100, random_state=127)\n",
    "random_search_lgbm.fit(features_encoded_train, target_encoded_train)\n",
    "random_search_lgbm.best_params_"
   ]
  },
  {
   "cell_type": "markdown",
   "metadata": {},
   "source": [
    "Wall time: 6min 10s\n",
    "\n",
    "{'num_leaves': 46,\n",
    " 'num_iterations': 300,\n",
    " 'max_depth': 14,\n",
    " 'learning_rate': 0.25,\n",
    " 'feature_fraction': 1.0}"
   ]
  },
  {
   "cell_type": "code",
   "execution_count": 68,
   "metadata": {},
   "outputs": [
    {
     "name": "stdout",
     "output_type": "stream",
     "text": [
      "CPU times: user 36 µs, sys: 0 ns, total: 36 µs\n",
      "Wall time: 41.2 µs\n"
     ]
    }
   ],
   "source": [
    "%%time\n",
    "\n",
    "lgbm_grid = {\n",
    "    'max_depth': [13, 14, 15],\n",
    "    'learning_rate' : [0.24, 0.25, 0.26],\n",
    "    'feature_fraction': [1.0],\n",
    "    'num_leaves': [44,46,48],\n",
    "    'num_iterations' : [300]\n",
    "}\n",
    "\n",
    "grid_searhc_lgbm = GridSearchCV(estimator = lgbm, param_grid = lgbm_grid, cv = 3, scoring=rmse_scorer, n_jobs=-1)\n",
    "\n",
    "grid_searhc_lgbm.fit(features_encoded_train, target_encoded_train)\n",
    "grid_searhc_lgbm.best_params_"
   ]
  },
  {
   "cell_type": "markdown",
   "metadata": {},
   "source": [
    "Wall time: 2min 9s\n",
    "\n",
    "{'feature_fraction': 1.0,\n",
    " 'learning_rate': 0.24,\n",
    " 'max_depth': 13,\n",
    " 'num_iterations': 300,\n",
    " 'num_leaves': 44}"
   ]
  },
  {
   "cell_type": "code",
   "execution_count": 69,
   "metadata": {},
   "outputs": [
    {
     "name": "stdout",
     "output_type": "stream",
     "text": [
      "CPU times: user 26.2 s, sys: 178 ms, total: 26.4 s\n",
      "Wall time: 26.8 s\n"
     ]
    },
    {
     "data": {
      "text/plain": [
       "LGBMRegressor(boosting_type='gbdt', class_weight=None, colsample_bytree=1.0,\n",
       "              feature_fraction=1.0, importance_type='split', learning_rate=0.24,\n",
       "              max_depth=13, min_child_samples=20, min_child_weight=0.001,\n",
       "              min_split_gain=0.0, n_estimators=100, n_jobs=-1,\n",
       "              num_iterations=300, num_leaves=44, objective=None,\n",
       "              random_state=127, reg_alpha=0.0, reg_lambda=0.0, silent=True,\n",
       "              subsample=1.0, subsample_for_bin=200000, subsample_freq=0)"
      ]
     },
     "execution_count": 69,
     "metadata": {},
     "output_type": "execute_result"
    }
   ],
   "source": [
    "%%time\n",
    "\n",
    "lgbm = lgb.LGBMRegressor(feature_fraction=1.0, learning_rate=0.24, max_depth=13, num_iterations=300, num_leaves=44, random_state=127)\n",
    "lgbm.fit(features_encoded_train, target_encoded_train)"
   ]
  },
  {
   "cell_type": "markdown",
   "metadata": {},
   "source": [
    "Wall time: 2.29 s"
   ]
  },
  {
   "cell_type": "code",
   "execution_count": 70,
   "metadata": {},
   "outputs": [
    {
     "name": "stdout",
     "output_type": "stream",
     "text": [
      "CPU times: user 2.12 s, sys: 787 µs, total: 2.13 s\n",
      "Wall time: 2.19 s\n"
     ]
    }
   ],
   "source": [
    "%%time\n",
    "lgbm_pred = lgbm.predict(features_encoded_test)"
   ]
  },
  {
   "cell_type": "markdown",
   "metadata": {},
   "source": [
    "Wall time: 278 ms"
   ]
  },
  {
   "cell_type": "code",
   "execution_count": 71,
   "metadata": {},
   "outputs": [
    {
     "name": "stdout",
     "output_type": "stream",
     "text": [
      "Значение RMSE для лучшей модели LightGBM: 1601.0454491337046\n"
     ]
    }
   ],
   "source": [
    "print('Значение RMSE для лучшей модели LightGBM:', rmse(target_encoded_test,lgbm_pred))\n",
    "result_array.append(['LGBM', rmse(target_encoded_test,lgbm_pred), 1621.734945, 2.29, 0.278]) #np.abs(grid_searhc_lgbm.best_score_)"
   ]
  },
  {
   "cell_type": "markdown",
   "metadata": {},
   "source": [
    "<a href='#start'>К содержанию</a>"
   ]
  },
  {
   "cell_type": "markdown",
   "metadata": {},
   "source": [
    "<a id='step3'></a>\n",
    "# 3. Анализ моделей"
   ]
  },
  {
   "cell_type": "code",
   "execution_count": 72,
   "metadata": {},
   "outputs": [
    {
     "data": {
      "text/html": [
       "<div>\n",
       "<style scoped>\n",
       "    .dataframe tbody tr th:only-of-type {\n",
       "        vertical-align: middle;\n",
       "    }\n",
       "\n",
       "    .dataframe tbody tr th {\n",
       "        vertical-align: top;\n",
       "    }\n",
       "\n",
       "    .dataframe thead th {\n",
       "        text-align: right;\n",
       "    }\n",
       "</style>\n",
       "<table border=\"1\" class=\"dataframe\">\n",
       "  <thead>\n",
       "    <tr style=\"text-align: right;\">\n",
       "      <th></th>\n",
       "      <th>Model</th>\n",
       "      <th>Test RMSE</th>\n",
       "      <th>CV RMSE</th>\n",
       "      <th>Learn Time</th>\n",
       "      <th>Predict Time</th>\n",
       "    </tr>\n",
       "  </thead>\n",
       "  <tbody>\n",
       "    <tr>\n",
       "      <td>0</td>\n",
       "      <td>LR</td>\n",
       "      <td>2785.448827</td>\n",
       "      <td>2789.347734</td>\n",
       "      <td>0.268</td>\n",
       "      <td>0.020</td>\n",
       "    </tr>\n",
       "    <tr>\n",
       "      <td>1</td>\n",
       "      <td>CatBoost</td>\n",
       "      <td>1593.122958</td>\n",
       "      <td>1621.248470</td>\n",
       "      <td>71.000</td>\n",
       "      <td>0.120</td>\n",
       "    </tr>\n",
       "    <tr>\n",
       "      <td>2</td>\n",
       "      <td>RF</td>\n",
       "      <td>1628.485694</td>\n",
       "      <td>1668.702373</td>\n",
       "      <td>58.100</td>\n",
       "      <td>1.190</td>\n",
       "    </tr>\n",
       "    <tr>\n",
       "      <td>3</td>\n",
       "      <td>LGBM</td>\n",
       "      <td>1601.045449</td>\n",
       "      <td>1621.734945</td>\n",
       "      <td>2.290</td>\n",
       "      <td>0.278</td>\n",
       "    </tr>\n",
       "  </tbody>\n",
       "</table>\n",
       "</div>"
      ],
      "text/plain": [
       "      Model    Test RMSE      CV RMSE  Learn Time  Predict Time\n",
       "0        LR  2785.448827  2789.347734       0.268         0.020\n",
       "1  CatBoost  1593.122958  1621.248470      71.000         0.120\n",
       "2        RF  1628.485694  1668.702373      58.100         1.190\n",
       "3      LGBM  1601.045449  1621.734945       2.290         0.278"
      ]
     },
     "execution_count": 72,
     "metadata": {},
     "output_type": "execute_result"
    }
   ],
   "source": [
    "pd.DataFrame(result_array, columns = ['Model','Test RMSE', 'CV RMSE', 'Learn Time', 'Predict Time'])"
   ]
  },
  {
   "cell_type": "markdown",
   "metadata": {},
   "source": [
    "Рассмотрим результаты обучения моделей.\n",
    "\n",
    "Худшей моделью оказалась модель *линейной регрессии*, показавшей наименьшее время обучения модели, однако имеющая значение **RMSE**, равное **2785**.\n",
    "\n",
    "Модели *случайного леса*, *LGBM* и *CatBoost* показали близкие результаты по показателю **RMSE** - около **1600**. \n",
    "Наблюдается значительная разница во **времени обучения** - лидером по этому показателю со значением **2.29** секунды является _LGBM_. \n",
    "Не смотря на превосходство _CatBoost_ в скорости предсказания над _LGBM_ (**0.120** против **0.278**), по совокупным показателям лучшей моделью под критерии заказчика выберем модель ***LGBM*** со следующими параметрами:\n",
    "\n",
    "- 'feature_fraction': 1.0\n",
    "- 'learning_rate': 0.24\n",
    "- 'max_depth': 13\n",
    "- 'num_iterations': 300\n",
    "- 'num_leaves': 44\n"
   ]
  },
  {
   "cell_type": "markdown",
   "metadata": {},
   "source": [
    "<a href='#start'>К содержанию</a>"
   ]
  }
 ],
 "metadata": {
  "kernelspec": {
   "display_name": "Python 3",
   "language": "python",
   "name": "python3"
  },
  "language_info": {
   "codemirror_mode": {
    "name": "ipython",
    "version": 3
   },
   "file_extension": ".py",
   "mimetype": "text/x-python",
   "name": "python",
   "nbconvert_exporter": "python",
   "pygments_lexer": "ipython3",
   "version": "3.7.6"
  }
 },
 "nbformat": 4,
 "nbformat_minor": 2
}
